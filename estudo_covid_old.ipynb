{
 "cells": [
  {
   "cell_type": "markdown",
   "metadata": {},
   "source": [
    "### Utilizando o arquivo CSV de microdados dos casos, construa um jupyter notebook para responder a essas perguntas:\n",
    "https://www.saopaulo.sp.gov.br/planosp/simi/dados-abertos/\n",
    "\n",
    "1. Existe diferença de incidência de covid entre homens e mulheres?\n",
    "2. Faça um gráfico da mortalidade por faixas de idade\n",
    "3. Qual a doença pré-existente mais provável de se encontrar numa pessoa com covid?\n",
    "4. Baseado nesses dados, faça um modelo que estime a probabilidade da pessoa morrer, uma vez que está contaminada com covid, e considerando os inputs de idade, gênero e doenças pré-existentes\n"
   ]
  },
  {
   "cell_type": "code",
   "execution_count": 1,
   "metadata": {},
   "outputs": [],
   "source": [
    "import pandas as pd\n",
    "import numpy as np\n",
    "import matplotlib as plt\n",
    "import seaborn as sns\n",
    "\n",
    "#pd.set_option('display.float_format', '{:.8f}'.format)\n",
    "\n",
    "#import missingno as msno\n",
    "\n",
    "data_file='20230320_Casos_e_obitos_ESP.csv'"
   ]
  },
  {
   "cell_type": "code",
   "execution_count": 2,
   "metadata": {},
   "outputs": [],
   "source": [
    "def get_df_stats(df: pd.DataFrame) -> pd.DataFrame:\n",
    "    '''Passado um dataframe, retorna dataframe com análise básica dos dados\n",
    "    '''\n",
    "    df_stat = pd.concat([\n",
    "        df.dtypes,              # Tipo de Dados\n",
    "        df.nunique(),           # Qtd valores únicos\n",
    "        df.dtypes,              # temporario - apenas para alocar a coluna\n",
    "        df.isnull().sum(),      # Qtd nulos\n",
    "        df.isnull().mean()*100, # Percentual de Nulos\n",
    "        (df==0.00).sum(),       # Qtd de registros iguais a 0\n",
    "        (df==1.00).sum(),       # Qtd de registros iguais a 1\n",
    "        (df==0.00).mean()*100,  # Pct de registros iguais a 0\n",
    "        (df==1.00).mean()*100   # Pct de registros iguais a 1\n",
    "    ], axis=1)\n",
    "    df_stat.columns = [ 'Tipo', 'Qtd_Categorias', 'Valores', 'Qtd_Missing', '% Missing', 'Qtd_0', 'Qtd_1', '% 0', '% 1' ]\n",
    "\n",
    "    df_stat['Valores'] = df_stat.apply(lambda c: sorted(df[c.name].dropna().unique()) if c['Qtd_Categorias'] <= 5 else \n",
    "                                              f'{df[c.name].min().strftime(\"%Y-%m-%d\")} ... {df[c.name].max().strftime(\"%Y-%m-%d\")}' if (c['Qtd_Categorias'] > 5 and str(c['Tipo']).startswith('date') ) else\n",
    "                                              f'{df[c.name].min()} ... {df[c.name].max()}' if (c['Qtd_Categorias'] > 5 and (str(c['Tipo']).startswith('int') or str(c['Tipo']).startswith('float')) ) else\n",
    "                                              '', axis=1)                                       \n",
    "\n",
    "\n",
    "    return df_stat"
   ]
  },
  {
   "cell_type": "markdown",
   "metadata": {},
   "source": [
    "## Data Prep"
   ]
  },
  {
   "cell_type": "markdown",
   "metadata": {},
   "source": [
    "Checando as primeiras linhas e carregando o conteúdo do arquivo"
   ]
  },
  {
   "cell_type": "code",
   "execution_count": 3,
   "metadata": {},
   "outputs": [
    {
     "ename": "FileNotFoundError",
     "evalue": "[Errno 2] No such file or directory: '20230320_Casos_e_obitos_ESP.csv'",
     "output_type": "error",
     "traceback": [
      "\u001b[0;31m---------------------------------------------------------------------------\u001b[0m",
      "\u001b[0;31mFileNotFoundError\u001b[0m                         Traceback (most recent call last)",
      "Cell \u001b[0;32mIn[3], line 4\u001b[0m\n\u001b[1;32m      1\u001b[0m \u001b[39m#!powershell Get-Content 20230320_Casos_e_obitos_ESP.csv -Head 5\u001b[39;00m\n\u001b[1;32m      2\u001b[0m \u001b[39m#head -n 4 20230320_Casos_e_obitos_ESP.csv\u001b[39;00m\n\u001b[0;32m----> 4\u001b[0m \u001b[39mwith\u001b[39;00m \u001b[39mopen\u001b[39;49m(data_file) \u001b[39mas\u001b[39;00m file:\n\u001b[1;32m      5\u001b[0m     lines\u001b[39m=\u001b[39mfile\u001b[39m.\u001b[39mreadlines()[:\u001b[39m5\u001b[39m] \n\u001b[1;32m      6\u001b[0m \u001b[39mprint\u001b[39m(lines)\n",
      "File \u001b[0;32m~/.local/lib/python3.10/site-packages/IPython/core/interactiveshell.py:282\u001b[0m, in \u001b[0;36m_modified_open\u001b[0;34m(file, *args, **kwargs)\u001b[0m\n\u001b[1;32m    275\u001b[0m \u001b[39mif\u001b[39;00m file \u001b[39min\u001b[39;00m {\u001b[39m0\u001b[39m, \u001b[39m1\u001b[39m, \u001b[39m2\u001b[39m}:\n\u001b[1;32m    276\u001b[0m     \u001b[39mraise\u001b[39;00m \u001b[39mValueError\u001b[39;00m(\n\u001b[1;32m    277\u001b[0m         \u001b[39mf\u001b[39m\u001b[39m\"\u001b[39m\u001b[39mIPython won\u001b[39m\u001b[39m'\u001b[39m\u001b[39mt let you open fd=\u001b[39m\u001b[39m{\u001b[39;00mfile\u001b[39m}\u001b[39;00m\u001b[39m by default \u001b[39m\u001b[39m\"\u001b[39m\n\u001b[1;32m    278\u001b[0m         \u001b[39m\"\u001b[39m\u001b[39mas it is likely to crash IPython. If you know what you are doing, \u001b[39m\u001b[39m\"\u001b[39m\n\u001b[1;32m    279\u001b[0m         \u001b[39m\"\u001b[39m\u001b[39myou can use builtins\u001b[39m\u001b[39m'\u001b[39m\u001b[39m open.\u001b[39m\u001b[39m\"\u001b[39m\n\u001b[1;32m    280\u001b[0m     )\n\u001b[0;32m--> 282\u001b[0m \u001b[39mreturn\u001b[39;00m io_open(file, \u001b[39m*\u001b[39;49margs, \u001b[39m*\u001b[39;49m\u001b[39m*\u001b[39;49mkwargs)\n",
      "\u001b[0;31mFileNotFoundError\u001b[0m: [Errno 2] No such file or directory: '20230320_Casos_e_obitos_ESP.csv'"
     ]
    }
   ],
   "source": [
    "#!powershell Get-Content 20230320_Casos_e_obitos_ESP.csv -Head 5\n",
    "#head -n 4 20230320_Casos_e_obitos_ESP.csv\n",
    "\n",
    "with open(data_file) as file:\n",
    "    lines=file.readlines()[:5] \n",
    "print(lines)"
   ]
  },
  {
   "cell_type": "code",
   "execution_count": 4,
   "metadata": {},
   "outputs": [
    {
     "data": {
      "text/html": [
       "<div>\n",
       "<style scoped>\n",
       "    .dataframe tbody tr th:only-of-type {\n",
       "        vertical-align: middle;\n",
       "    }\n",
       "\n",
       "    .dataframe tbody tr th {\n",
       "        vertical-align: top;\n",
       "    }\n",
       "\n",
       "    .dataframe thead th {\n",
       "        text-align: right;\n",
       "    }\n",
       "</style>\n",
       "<table border=\"1\" class=\"dataframe\">\n",
       "  <thead>\n",
       "    <tr style=\"text-align: right;\">\n",
       "      <th></th>\n",
       "      <th>Asma</th>\n",
       "      <th>Cardiopatia</th>\n",
       "      <th>Data_Inicio_Sintomas</th>\n",
       "      <th>Diabetes</th>\n",
       "      <th>Diagnostico_Covid19</th>\n",
       "      <th>Doenca_Hematologica</th>\n",
       "      <th>Doenca_Hepatica</th>\n",
       "      <th>Doenca_Neurologica</th>\n",
       "      <th>Doenca Renal</th>\n",
       "      <th>Genero</th>\n",
       "      <th>Idade</th>\n",
       "      <th>Imunodepressao</th>\n",
       "      <th>Municipio</th>\n",
       "      <th>Obesidade</th>\n",
       "      <th>Obito</th>\n",
       "      <th>Outros_Fatores_De_Risco</th>\n",
       "      <th>Pneumopatia</th>\n",
       "      <th>Puérpera</th>\n",
       "      <th>Síndrome_De_Down</th>\n",
       "    </tr>\n",
       "  </thead>\n",
       "  <tbody>\n",
       "    <tr>\n",
       "      <th>0</th>\n",
       "      <td>NaN</td>\n",
       "      <td>NaN</td>\n",
       "      <td>15/07/2022</td>\n",
       "      <td>NaN</td>\n",
       "      <td>CONFIRMADO</td>\n",
       "      <td>NaN</td>\n",
       "      <td>NaN</td>\n",
       "      <td>NaN</td>\n",
       "      <td>NaN</td>\n",
       "      <td>MASCULINO</td>\n",
       "      <td>69.0</td>\n",
       "      <td>NaN</td>\n",
       "      <td>ASSIS</td>\n",
       "      <td>NaN</td>\n",
       "      <td>0</td>\n",
       "      <td>NaN</td>\n",
       "      <td>NaN</td>\n",
       "      <td>NaN</td>\n",
       "      <td>NaN</td>\n",
       "    </tr>\n",
       "    <tr>\n",
       "      <th>1</th>\n",
       "      <td>NaN</td>\n",
       "      <td>NaN</td>\n",
       "      <td>21/02/2021</td>\n",
       "      <td>NaN</td>\n",
       "      <td>CONFIRMADO</td>\n",
       "      <td>NaN</td>\n",
       "      <td>NaN</td>\n",
       "      <td>NaN</td>\n",
       "      <td>NaN</td>\n",
       "      <td>FEMININO</td>\n",
       "      <td>60.0</td>\n",
       "      <td>NaN</td>\n",
       "      <td>SÃO PAULO</td>\n",
       "      <td>NaN</td>\n",
       "      <td>0</td>\n",
       "      <td>NaN</td>\n",
       "      <td>NaN</td>\n",
       "      <td>NaN</td>\n",
       "      <td>NaN</td>\n",
       "    </tr>\n",
       "    <tr>\n",
       "      <th>2</th>\n",
       "      <td>NaN</td>\n",
       "      <td>NaN</td>\n",
       "      <td>23/06/2021</td>\n",
       "      <td>NaN</td>\n",
       "      <td>CONFIRMADO</td>\n",
       "      <td>NaN</td>\n",
       "      <td>NaN</td>\n",
       "      <td>NaN</td>\n",
       "      <td>NaN</td>\n",
       "      <td>MASCULINO</td>\n",
       "      <td>58.0</td>\n",
       "      <td>NaN</td>\n",
       "      <td>ARARAQUARA</td>\n",
       "      <td>NaN</td>\n",
       "      <td>0</td>\n",
       "      <td>NaN</td>\n",
       "      <td>NaN</td>\n",
       "      <td>NaN</td>\n",
       "      <td>NaN</td>\n",
       "    </tr>\n",
       "    <tr>\n",
       "      <th>3</th>\n",
       "      <td>NaN</td>\n",
       "      <td>NaN</td>\n",
       "      <td>03/02/2021</td>\n",
       "      <td>NaN</td>\n",
       "      <td>CONFIRMADO</td>\n",
       "      <td>NaN</td>\n",
       "      <td>NaN</td>\n",
       "      <td>NaN</td>\n",
       "      <td>NaN</td>\n",
       "      <td>FEMININO</td>\n",
       "      <td>45.0</td>\n",
       "      <td>NaN</td>\n",
       "      <td>SÃO PAULO</td>\n",
       "      <td>NaN</td>\n",
       "      <td>0</td>\n",
       "      <td>NaN</td>\n",
       "      <td>NaN</td>\n",
       "      <td>NaN</td>\n",
       "      <td>NaN</td>\n",
       "    </tr>\n",
       "    <tr>\n",
       "      <th>4</th>\n",
       "      <td>NaN</td>\n",
       "      <td>NaN</td>\n",
       "      <td>23/02/2021</td>\n",
       "      <td>NaN</td>\n",
       "      <td>CONFIRMADO</td>\n",
       "      <td>NaN</td>\n",
       "      <td>NaN</td>\n",
       "      <td>NaN</td>\n",
       "      <td>NaN</td>\n",
       "      <td>FEMININO</td>\n",
       "      <td>42.0</td>\n",
       "      <td>NaN</td>\n",
       "      <td>SÃO PAULO</td>\n",
       "      <td>NaN</td>\n",
       "      <td>0</td>\n",
       "      <td>NaN</td>\n",
       "      <td>NaN</td>\n",
       "      <td>NaN</td>\n",
       "      <td>NaN</td>\n",
       "    </tr>\n",
       "  </tbody>\n",
       "</table>\n",
       "</div>"
      ],
      "text/plain": [
       "  Asma Cardiopatia Data_Inicio_Sintomas Diabetes Diagnostico_Covid19  \\\n",
       "0  NaN         NaN           15/07/2022      NaN          CONFIRMADO   \n",
       "1  NaN         NaN           21/02/2021      NaN          CONFIRMADO   \n",
       "2  NaN         NaN           23/06/2021      NaN          CONFIRMADO   \n",
       "3  NaN         NaN           03/02/2021      NaN          CONFIRMADO   \n",
       "4  NaN         NaN           23/02/2021      NaN          CONFIRMADO   \n",
       "\n",
       "  Doenca_Hematologica Doenca_Hepatica Doenca_Neurologica Doenca Renal  \\\n",
       "0                 NaN             NaN                NaN          NaN   \n",
       "1                 NaN             NaN                NaN          NaN   \n",
       "2                 NaN             NaN                NaN          NaN   \n",
       "3                 NaN             NaN                NaN          NaN   \n",
       "4                 NaN             NaN                NaN          NaN   \n",
       "\n",
       "      Genero  Idade Imunodepressao   Municipio Obesidade  Obito  \\\n",
       "0  MASCULINO   69.0            NaN       ASSIS       NaN      0   \n",
       "1   FEMININO   60.0            NaN   SÃO PAULO       NaN      0   \n",
       "2  MASCULINO   58.0            NaN  ARARAQUARA       NaN      0   \n",
       "3   FEMININO   45.0            NaN   SÃO PAULO       NaN      0   \n",
       "4   FEMININO   42.0            NaN   SÃO PAULO       NaN      0   \n",
       "\n",
       "  Outros_Fatores_De_Risco Pneumopatia Puérpera Síndrome_De_Down  \n",
       "0                     NaN         NaN      NaN              NaN  \n",
       "1                     NaN         NaN      NaN              NaN  \n",
       "2                     NaN         NaN      NaN              NaN  \n",
       "3                     NaN         NaN      NaN              NaN  \n",
       "4                     NaN         NaN      NaN              NaN  "
      ]
     },
     "execution_count": 4,
     "metadata": {},
     "output_type": "execute_result"
    }
   ],
   "source": [
    "df = pd.read_csv(data_file, sep=';', na_values='IGNORADO')\n",
    "df_bkp = df # Backup para não precisar ler novamente o CSV\n",
    "df.head()\n"
   ]
  },
  {
   "cell_type": "code",
   "execution_count": 5,
   "metadata": {},
   "outputs": [
    {
     "data": {
      "text/html": [
       "<div>\n",
       "<style scoped>\n",
       "    .dataframe tbody tr th:only-of-type {\n",
       "        vertical-align: middle;\n",
       "    }\n",
       "\n",
       "    .dataframe tbody tr th {\n",
       "        vertical-align: top;\n",
       "    }\n",
       "\n",
       "    .dataframe thead th {\n",
       "        text-align: right;\n",
       "    }\n",
       "</style>\n",
       "<table border=\"1\" class=\"dataframe\">\n",
       "  <thead>\n",
       "    <tr style=\"text-align: right;\">\n",
       "      <th></th>\n",
       "      <th>Tipo</th>\n",
       "      <th>Qtd_Categorias</th>\n",
       "      <th>Valores</th>\n",
       "      <th>Qtd_Missing</th>\n",
       "      <th>% Missing</th>\n",
       "      <th>Qtd_0</th>\n",
       "      <th>Qtd_1</th>\n",
       "      <th>% 0</th>\n",
       "      <th>% 1</th>\n",
       "    </tr>\n",
       "  </thead>\n",
       "  <tbody>\n",
       "    <tr>\n",
       "      <th>Asma</th>\n",
       "      <td>object</td>\n",
       "      <td>2</td>\n",
       "      <td>[NÃO, SIM]</td>\n",
       "      <td>6276299</td>\n",
       "      <td>96.458456</td>\n",
       "      <td>0</td>\n",
       "      <td>0</td>\n",
       "      <td>0.000000</td>\n",
       "      <td>0.000000</td>\n",
       "    </tr>\n",
       "    <tr>\n",
       "      <th>Cardiopatia</th>\n",
       "      <td>object</td>\n",
       "      <td>2</td>\n",
       "      <td>[NÃO, SIM]</td>\n",
       "      <td>5946222</td>\n",
       "      <td>91.385607</td>\n",
       "      <td>0</td>\n",
       "      <td>0</td>\n",
       "      <td>0.000000</td>\n",
       "      <td>0.000000</td>\n",
       "    </tr>\n",
       "    <tr>\n",
       "      <th>Data_Inicio_Sintomas</th>\n",
       "      <td>object</td>\n",
       "      <td>1140</td>\n",
       "      <td></td>\n",
       "      <td>223555</td>\n",
       "      <td>3.435746</td>\n",
       "      <td>0</td>\n",
       "      <td>0</td>\n",
       "      <td>0.000000</td>\n",
       "      <td>0.000000</td>\n",
       "    </tr>\n",
       "    <tr>\n",
       "      <th>Diabetes</th>\n",
       "      <td>object</td>\n",
       "      <td>2</td>\n",
       "      <td>[NÃO, SIM]</td>\n",
       "      <td>6060148</td>\n",
       "      <td>93.136499</td>\n",
       "      <td>0</td>\n",
       "      <td>0</td>\n",
       "      <td>0.000000</td>\n",
       "      <td>0.000000</td>\n",
       "    </tr>\n",
       "    <tr>\n",
       "      <th>Diagnostico_Covid19</th>\n",
       "      <td>object</td>\n",
       "      <td>1</td>\n",
       "      <td>[CONFIRMADO]</td>\n",
       "      <td>0</td>\n",
       "      <td>0.000000</td>\n",
       "      <td>0</td>\n",
       "      <td>0</td>\n",
       "      <td>0.000000</td>\n",
       "      <td>0.000000</td>\n",
       "    </tr>\n",
       "    <tr>\n",
       "      <th>Doenca_Hematologica</th>\n",
       "      <td>object</td>\n",
       "      <td>2</td>\n",
       "      <td>[NÃO, SIM]</td>\n",
       "      <td>6279856</td>\n",
       "      <td>96.513122</td>\n",
       "      <td>0</td>\n",
       "      <td>0</td>\n",
       "      <td>0.000000</td>\n",
       "      <td>0.000000</td>\n",
       "    </tr>\n",
       "    <tr>\n",
       "      <th>Doenca_Hepatica</th>\n",
       "      <td>object</td>\n",
       "      <td>2</td>\n",
       "      <td>[NÃO, SIM]</td>\n",
       "      <td>6280622</td>\n",
       "      <td>96.524895</td>\n",
       "      <td>0</td>\n",
       "      <td>0</td>\n",
       "      <td>0.000000</td>\n",
       "      <td>0.000000</td>\n",
       "    </tr>\n",
       "    <tr>\n",
       "      <th>Doenca_Neurologica</th>\n",
       "      <td>object</td>\n",
       "      <td>2</td>\n",
       "      <td>[NÃO, SIM]</td>\n",
       "      <td>6273351</td>\n",
       "      <td>96.413149</td>\n",
       "      <td>0</td>\n",
       "      <td>0</td>\n",
       "      <td>0.000000</td>\n",
       "      <td>0.000000</td>\n",
       "    </tr>\n",
       "    <tr>\n",
       "      <th>Doenca Renal</th>\n",
       "      <td>object</td>\n",
       "      <td>2</td>\n",
       "      <td>[NÃO, SIM]</td>\n",
       "      <td>6263687</td>\n",
       "      <td>96.264626</td>\n",
       "      <td>0</td>\n",
       "      <td>0</td>\n",
       "      <td>0.000000</td>\n",
       "      <td>0.000000</td>\n",
       "    </tr>\n",
       "    <tr>\n",
       "      <th>Genero</th>\n",
       "      <td>object</td>\n",
       "      <td>3</td>\n",
       "      <td>[FEMININO, INDEFINIDO, MASCULINO]</td>\n",
       "      <td>10</td>\n",
       "      <td>0.000154</td>\n",
       "      <td>0</td>\n",
       "      <td>0</td>\n",
       "      <td>0.000000</td>\n",
       "      <td>0.000000</td>\n",
       "    </tr>\n",
       "    <tr>\n",
       "      <th>Idade</th>\n",
       "      <td>float64</td>\n",
       "      <td>126</td>\n",
       "      <td>0.0 ... 2188.0</td>\n",
       "      <td>200007</td>\n",
       "      <td>3.073844</td>\n",
       "      <td>34788</td>\n",
       "      <td>24535</td>\n",
       "      <td>0.534646</td>\n",
       "      <td>0.377071</td>\n",
       "    </tr>\n",
       "    <tr>\n",
       "      <th>Imunodepressao</th>\n",
       "      <td>object</td>\n",
       "      <td>2</td>\n",
       "      <td>[NÃO, SIM]</td>\n",
       "      <td>6253743</td>\n",
       "      <td>96.111800</td>\n",
       "      <td>0</td>\n",
       "      <td>0</td>\n",
       "      <td>0.000000</td>\n",
       "      <td>0.000000</td>\n",
       "    </tr>\n",
       "    <tr>\n",
       "      <th>Municipio</th>\n",
       "      <td>object</td>\n",
       "      <td>646</td>\n",
       "      <td></td>\n",
       "      <td>0</td>\n",
       "      <td>0.000000</td>\n",
       "      <td>0</td>\n",
       "      <td>0</td>\n",
       "      <td>0.000000</td>\n",
       "      <td>0.000000</td>\n",
       "    </tr>\n",
       "    <tr>\n",
       "      <th>Obesidade</th>\n",
       "      <td>object</td>\n",
       "      <td>2</td>\n",
       "      <td>[NÃO, SIM]</td>\n",
       "      <td>6269321</td>\n",
       "      <td>96.351213</td>\n",
       "      <td>0</td>\n",
       "      <td>0</td>\n",
       "      <td>0.000000</td>\n",
       "      <td>0.000000</td>\n",
       "    </tr>\n",
       "    <tr>\n",
       "      <th>Obito</th>\n",
       "      <td>int64</td>\n",
       "      <td>2</td>\n",
       "      <td>[0, 1]</td>\n",
       "      <td>0</td>\n",
       "      <td>0.000000</td>\n",
       "      <td>6327441</td>\n",
       "      <td>179297</td>\n",
       "      <td>97.244441</td>\n",
       "      <td>2.755559</td>\n",
       "    </tr>\n",
       "    <tr>\n",
       "      <th>Outros_Fatores_De_Risco</th>\n",
       "      <td>object</td>\n",
       "      <td>2</td>\n",
       "      <td>[NÃO, SIM]</td>\n",
       "      <td>6230802</td>\n",
       "      <td>95.759227</td>\n",
       "      <td>0</td>\n",
       "      <td>0</td>\n",
       "      <td>0.000000</td>\n",
       "      <td>0.000000</td>\n",
       "    </tr>\n",
       "    <tr>\n",
       "      <th>Pneumopatia</th>\n",
       "      <td>object</td>\n",
       "      <td>2</td>\n",
       "      <td>[NÃO, SIM]</td>\n",
       "      <td>6274034</td>\n",
       "      <td>96.423646</td>\n",
       "      <td>0</td>\n",
       "      <td>0</td>\n",
       "      <td>0.000000</td>\n",
       "      <td>0.000000</td>\n",
       "    </tr>\n",
       "    <tr>\n",
       "      <th>Puérpera</th>\n",
       "      <td>object</td>\n",
       "      <td>2</td>\n",
       "      <td>[NÃO, SIM]</td>\n",
       "      <td>6281742</td>\n",
       "      <td>96.542108</td>\n",
       "      <td>0</td>\n",
       "      <td>0</td>\n",
       "      <td>0.000000</td>\n",
       "      <td>0.000000</td>\n",
       "    </tr>\n",
       "    <tr>\n",
       "      <th>Síndrome_De_Down</th>\n",
       "      <td>object</td>\n",
       "      <td>2</td>\n",
       "      <td>[NÃO, SIM]</td>\n",
       "      <td>6280272</td>\n",
       "      <td>96.519516</td>\n",
       "      <td>0</td>\n",
       "      <td>0</td>\n",
       "      <td>0.000000</td>\n",
       "      <td>0.000000</td>\n",
       "    </tr>\n",
       "  </tbody>\n",
       "</table>\n",
       "</div>"
      ],
      "text/plain": [
       "                            Tipo  Qtd_Categorias  \\\n",
       "Asma                      object               2   \n",
       "Cardiopatia               object               2   \n",
       "Data_Inicio_Sintomas      object            1140   \n",
       "Diabetes                  object               2   \n",
       "Diagnostico_Covid19       object               1   \n",
       "Doenca_Hematologica       object               2   \n",
       "Doenca_Hepatica           object               2   \n",
       "Doenca_Neurologica        object               2   \n",
       "Doenca Renal              object               2   \n",
       "Genero                    object               3   \n",
       "Idade                    float64             126   \n",
       "Imunodepressao            object               2   \n",
       "Municipio                 object             646   \n",
       "Obesidade                 object               2   \n",
       "Obito                      int64               2   \n",
       "Outros_Fatores_De_Risco   object               2   \n",
       "Pneumopatia               object               2   \n",
       "Puérpera                  object               2   \n",
       "Síndrome_De_Down          object               2   \n",
       "\n",
       "                                                   Valores  Qtd_Missing  \\\n",
       "Asma                                            [NÃO, SIM]      6276299   \n",
       "Cardiopatia                                     [NÃO, SIM]      5946222   \n",
       "Data_Inicio_Sintomas                                             223555   \n",
       "Diabetes                                        [NÃO, SIM]      6060148   \n",
       "Diagnostico_Covid19                           [CONFIRMADO]            0   \n",
       "Doenca_Hematologica                             [NÃO, SIM]      6279856   \n",
       "Doenca_Hepatica                                 [NÃO, SIM]      6280622   \n",
       "Doenca_Neurologica                              [NÃO, SIM]      6273351   \n",
       "Doenca Renal                                    [NÃO, SIM]      6263687   \n",
       "Genero                   [FEMININO, INDEFINIDO, MASCULINO]           10   \n",
       "Idade                                       0.0 ... 2188.0       200007   \n",
       "Imunodepressao                                  [NÃO, SIM]      6253743   \n",
       "Municipio                                                             0   \n",
       "Obesidade                                       [NÃO, SIM]      6269321   \n",
       "Obito                                               [0, 1]            0   \n",
       "Outros_Fatores_De_Risco                         [NÃO, SIM]      6230802   \n",
       "Pneumopatia                                     [NÃO, SIM]      6274034   \n",
       "Puérpera                                        [NÃO, SIM]      6281742   \n",
       "Síndrome_De_Down                                [NÃO, SIM]      6280272   \n",
       "\n",
       "                         % Missing    Qtd_0   Qtd_1        % 0       % 1  \n",
       "Asma                     96.458456        0       0   0.000000  0.000000  \n",
       "Cardiopatia              91.385607        0       0   0.000000  0.000000  \n",
       "Data_Inicio_Sintomas      3.435746        0       0   0.000000  0.000000  \n",
       "Diabetes                 93.136499        0       0   0.000000  0.000000  \n",
       "Diagnostico_Covid19       0.000000        0       0   0.000000  0.000000  \n",
       "Doenca_Hematologica      96.513122        0       0   0.000000  0.000000  \n",
       "Doenca_Hepatica          96.524895        0       0   0.000000  0.000000  \n",
       "Doenca_Neurologica       96.413149        0       0   0.000000  0.000000  \n",
       "Doenca Renal             96.264626        0       0   0.000000  0.000000  \n",
       "Genero                    0.000154        0       0   0.000000  0.000000  \n",
       "Idade                     3.073844    34788   24535   0.534646  0.377071  \n",
       "Imunodepressao           96.111800        0       0   0.000000  0.000000  \n",
       "Municipio                 0.000000        0       0   0.000000  0.000000  \n",
       "Obesidade                96.351213        0       0   0.000000  0.000000  \n",
       "Obito                     0.000000  6327441  179297  97.244441  2.755559  \n",
       "Outros_Fatores_De_Risco  95.759227        0       0   0.000000  0.000000  \n",
       "Pneumopatia              96.423646        0       0   0.000000  0.000000  \n",
       "Puérpera                 96.542108        0       0   0.000000  0.000000  \n",
       "Síndrome_De_Down         96.519516        0       0   0.000000  0.000000  "
      ]
     },
     "execution_count": 5,
     "metadata": {},
     "output_type": "execute_result"
    }
   ],
   "source": [
    "df = df_bkp # Para não precisar ler novamente o CSV\n",
    "COL_DOENCAS_PRE = ['Asma', 'Cardiopatia', 'Diabetes', 'Doenca_Hematologica', 'Doenca_Hepatica', \n",
    "               'Doenca_Neurologica', 'Doenca Renal', 'Imunodepressao', 'Obesidade', \n",
    "               'Outros_Fatores_De_Risco', 'Pneumopatia', 'Puérpera', 'Síndrome_De_Down']\n",
    "\n",
    "stat = get_df_stats(df)\n",
    "stat"
   ]
  },
  {
   "cell_type": "markdown",
   "metadata": {},
   "source": [
    "Corrigindo tipo Date"
   ]
  },
  {
   "cell_type": "code",
   "execution_count": 6,
   "metadata": {},
   "outputs": [],
   "source": [
    "# Poderia ter forçado o tipo na leitura do dataframe com os parametros parse_dates=['Data_Inicio_Sintomas'], dayfirst=True\n",
    "df['Data_Inicio_Sintomas'] = pd.to_datetime(df['Data_Inicio_Sintomas'], dayfirst=True)"
   ]
  },
  {
   "cell_type": "markdown",
   "metadata": {},
   "source": [
    "Transformação de Valores\n",
    "- SIM=1\n",
    "- NÃO=0\n",
    "- NA=-1\n",
    "\n",
    "Teria o mesmo efeito usando os parâmetros abaixo na leitura do dataframe:<br>\n",
    "```pd.read_csv(... , true_values=['SIM'], false_values=['NÃO'])```\n",
    "\n",
    "**Obs:** Substituir NA por -1 é necessário para podemos usar o tipo int.<br>\n",
    "Caso não seja substituido, tipo será reconhecido como float, ocupando mais espaço em memória"
   ]
  },
  {
   "cell_type": "code",
   "execution_count": 7,
   "metadata": {},
   "outputs": [
    {
     "name": "stdout",
     "output_type": "stream",
     "text": [
      "Transformando Asma\n",
      "Transformando Cardiopatia\n",
      "Transformando Diabetes\n",
      "Transformando Doenca_Hematologica\n",
      "Transformando Doenca_Hepatica\n",
      "Transformando Doenca_Neurologica\n",
      "Transformando Doenca Renal\n",
      "Transformando Imunodepressao\n",
      "Transformando Obesidade\n",
      "Transformando Outros_Fatores_De_Risco\n",
      "Transformando Pneumopatia\n",
      "Transformando Puérpera\n",
      "Transformando Síndrome_De_Down\n"
     ]
    }
   ],
   "source": [
    "def transformar_sim_nao(valor):\n",
    "    if valor == 'SIM':\n",
    "        return 1\n",
    "    elif valor == 'NÃO':\n",
    "        return 0\n",
    "    else:\n",
    "        return valor\n",
    "\n",
    "\n",
    "# Convertemdo valores em todas as colunas populadas com SIM/NÃO\n",
    "for c in df:\n",
    "    # Verifica se as categorias existentes são exclusivamente SIM e NÃO\n",
    "    if set(df[c].dropna().unique()) == {'NÃO', 'SIM'}:\n",
    "        print(f'Transformando {c}')\n",
    "        df[c] = df[c].map(transformar_sim_nao).fillna(-1).astype('int8', errors='ignore') # mantém os NAs\n",
    "        "
   ]
  },
  {
   "cell_type": "code",
   "execution_count": 8,
   "metadata": {},
   "outputs": [],
   "source": [
    "# No caso da coluna abaixo, como originalmente esta 100% com o valor 'CONFIRMADO', é mais eficiente simplesmente usar:\n",
    "df['Diagnostico_Covid19'] = 1\n",
    "# Poderíamos até mesmo excluir a coluna, já que não agrega nenhum valor e ocupa espaço desnecessário em memória\n",
    "\n",
    "# Mesma transformação usando lambda Func:\n",
    "# df['Diagnostico_Covid19'] = df.apply(lambda row: 1 if(row['Diagnostico_Covid19'])=='CONFIRMADO' else row['Diagnostico_Covid19'], axis=1)"
   ]
  },
  {
   "cell_type": "code",
   "execution_count": 9,
   "metadata": {},
   "outputs": [
    {
     "data": {
      "text/html": [
       "<div>\n",
       "<style scoped>\n",
       "    .dataframe tbody tr th:only-of-type {\n",
       "        vertical-align: middle;\n",
       "    }\n",
       "\n",
       "    .dataframe tbody tr th {\n",
       "        vertical-align: top;\n",
       "    }\n",
       "\n",
       "    .dataframe thead th {\n",
       "        text-align: right;\n",
       "    }\n",
       "</style>\n",
       "<table border=\"1\" class=\"dataframe\">\n",
       "  <thead>\n",
       "    <tr style=\"text-align: right;\">\n",
       "      <th></th>\n",
       "      <th>Asma</th>\n",
       "      <th>Cardiopatia</th>\n",
       "      <th>Data_Inicio_Sintomas</th>\n",
       "      <th>Diabetes</th>\n",
       "      <th>Diagnostico_Covid19</th>\n",
       "      <th>Doenca_Hematologica</th>\n",
       "      <th>Doenca_Hepatica</th>\n",
       "      <th>Doenca_Neurologica</th>\n",
       "      <th>Doenca Renal</th>\n",
       "      <th>Genero</th>\n",
       "      <th>Idade</th>\n",
       "      <th>Imunodepressao</th>\n",
       "      <th>Municipio</th>\n",
       "      <th>Obesidade</th>\n",
       "      <th>Obito</th>\n",
       "      <th>Outros_Fatores_De_Risco</th>\n",
       "      <th>Pneumopatia</th>\n",
       "      <th>Puérpera</th>\n",
       "      <th>Síndrome_De_Down</th>\n",
       "    </tr>\n",
       "  </thead>\n",
       "  <tbody>\n",
       "    <tr>\n",
       "      <th>0</th>\n",
       "      <td>-1</td>\n",
       "      <td>-1</td>\n",
       "      <td>2022-07-15</td>\n",
       "      <td>-1</td>\n",
       "      <td>1</td>\n",
       "      <td>-1</td>\n",
       "      <td>-1</td>\n",
       "      <td>-1</td>\n",
       "      <td>-1</td>\n",
       "      <td>MASCULINO</td>\n",
       "      <td>69.0</td>\n",
       "      <td>-1</td>\n",
       "      <td>ASSIS</td>\n",
       "      <td>-1</td>\n",
       "      <td>0</td>\n",
       "      <td>-1</td>\n",
       "      <td>-1</td>\n",
       "      <td>-1</td>\n",
       "      <td>-1</td>\n",
       "    </tr>\n",
       "    <tr>\n",
       "      <th>1</th>\n",
       "      <td>-1</td>\n",
       "      <td>-1</td>\n",
       "      <td>2021-02-21</td>\n",
       "      <td>-1</td>\n",
       "      <td>1</td>\n",
       "      <td>-1</td>\n",
       "      <td>-1</td>\n",
       "      <td>-1</td>\n",
       "      <td>-1</td>\n",
       "      <td>FEMININO</td>\n",
       "      <td>60.0</td>\n",
       "      <td>-1</td>\n",
       "      <td>SÃO PAULO</td>\n",
       "      <td>-1</td>\n",
       "      <td>0</td>\n",
       "      <td>-1</td>\n",
       "      <td>-1</td>\n",
       "      <td>-1</td>\n",
       "      <td>-1</td>\n",
       "    </tr>\n",
       "    <tr>\n",
       "      <th>2</th>\n",
       "      <td>-1</td>\n",
       "      <td>-1</td>\n",
       "      <td>2021-06-23</td>\n",
       "      <td>-1</td>\n",
       "      <td>1</td>\n",
       "      <td>-1</td>\n",
       "      <td>-1</td>\n",
       "      <td>-1</td>\n",
       "      <td>-1</td>\n",
       "      <td>MASCULINO</td>\n",
       "      <td>58.0</td>\n",
       "      <td>-1</td>\n",
       "      <td>ARARAQUARA</td>\n",
       "      <td>-1</td>\n",
       "      <td>0</td>\n",
       "      <td>-1</td>\n",
       "      <td>-1</td>\n",
       "      <td>-1</td>\n",
       "      <td>-1</td>\n",
       "    </tr>\n",
       "    <tr>\n",
       "      <th>3</th>\n",
       "      <td>-1</td>\n",
       "      <td>-1</td>\n",
       "      <td>2021-02-03</td>\n",
       "      <td>-1</td>\n",
       "      <td>1</td>\n",
       "      <td>-1</td>\n",
       "      <td>-1</td>\n",
       "      <td>-1</td>\n",
       "      <td>-1</td>\n",
       "      <td>FEMININO</td>\n",
       "      <td>45.0</td>\n",
       "      <td>-1</td>\n",
       "      <td>SÃO PAULO</td>\n",
       "      <td>-1</td>\n",
       "      <td>0</td>\n",
       "      <td>-1</td>\n",
       "      <td>-1</td>\n",
       "      <td>-1</td>\n",
       "      <td>-1</td>\n",
       "    </tr>\n",
       "    <tr>\n",
       "      <th>4</th>\n",
       "      <td>-1</td>\n",
       "      <td>-1</td>\n",
       "      <td>2021-02-23</td>\n",
       "      <td>-1</td>\n",
       "      <td>1</td>\n",
       "      <td>-1</td>\n",
       "      <td>-1</td>\n",
       "      <td>-1</td>\n",
       "      <td>-1</td>\n",
       "      <td>FEMININO</td>\n",
       "      <td>42.0</td>\n",
       "      <td>-1</td>\n",
       "      <td>SÃO PAULO</td>\n",
       "      <td>-1</td>\n",
       "      <td>0</td>\n",
       "      <td>-1</td>\n",
       "      <td>-1</td>\n",
       "      <td>-1</td>\n",
       "      <td>-1</td>\n",
       "    </tr>\n",
       "  </tbody>\n",
       "</table>\n",
       "</div>"
      ],
      "text/plain": [
       "   Asma  Cardiopatia Data_Inicio_Sintomas  Diabetes  Diagnostico_Covid19  \\\n",
       "0    -1           -1           2022-07-15        -1                    1   \n",
       "1    -1           -1           2021-02-21        -1                    1   \n",
       "2    -1           -1           2021-06-23        -1                    1   \n",
       "3    -1           -1           2021-02-03        -1                    1   \n",
       "4    -1           -1           2021-02-23        -1                    1   \n",
       "\n",
       "   Doenca_Hematologica  Doenca_Hepatica  Doenca_Neurologica  Doenca Renal  \\\n",
       "0                   -1               -1                  -1            -1   \n",
       "1                   -1               -1                  -1            -1   \n",
       "2                   -1               -1                  -1            -1   \n",
       "3                   -1               -1                  -1            -1   \n",
       "4                   -1               -1                  -1            -1   \n",
       "\n",
       "      Genero  Idade  Imunodepressao   Municipio  Obesidade  Obito  \\\n",
       "0  MASCULINO   69.0              -1       ASSIS         -1      0   \n",
       "1   FEMININO   60.0              -1   SÃO PAULO         -1      0   \n",
       "2  MASCULINO   58.0              -1  ARARAQUARA         -1      0   \n",
       "3   FEMININO   45.0              -1   SÃO PAULO         -1      0   \n",
       "4   FEMININO   42.0              -1   SÃO PAULO         -1      0   \n",
       "\n",
       "   Outros_Fatores_De_Risco  Pneumopatia  Puérpera  Síndrome_De_Down  \n",
       "0                       -1           -1        -1                -1  \n",
       "1                       -1           -1        -1                -1  \n",
       "2                       -1           -1        -1                -1  \n",
       "3                       -1           -1        -1                -1  \n",
       "4                       -1           -1        -1                -1  "
      ]
     },
     "execution_count": 9,
     "metadata": {},
     "output_type": "execute_result"
    }
   ],
   "source": [
    "df.head()"
   ]
  },
  {
   "cell_type": "code",
   "execution_count": 10,
   "metadata": {},
   "outputs": [
    {
     "data": {
      "text/html": [
       "<div>\n",
       "<style scoped>\n",
       "    .dataframe tbody tr th:only-of-type {\n",
       "        vertical-align: middle;\n",
       "    }\n",
       "\n",
       "    .dataframe tbody tr th {\n",
       "        vertical-align: top;\n",
       "    }\n",
       "\n",
       "    .dataframe thead th {\n",
       "        text-align: right;\n",
       "    }\n",
       "</style>\n",
       "<table border=\"1\" class=\"dataframe\">\n",
       "  <thead>\n",
       "    <tr style=\"text-align: right;\">\n",
       "      <th></th>\n",
       "      <th>Tipo</th>\n",
       "      <th>Qtd_Categorias</th>\n",
       "      <th>Valores</th>\n",
       "      <th>Qtd_Missing</th>\n",
       "      <th>% Missing</th>\n",
       "      <th>Qtd_0</th>\n",
       "      <th>Qtd_1</th>\n",
       "      <th>% 0</th>\n",
       "      <th>% 1</th>\n",
       "    </tr>\n",
       "  </thead>\n",
       "  <tbody>\n",
       "    <tr>\n",
       "      <th>Asma</th>\n",
       "      <td>int8</td>\n",
       "      <td>3</td>\n",
       "      <td>[-1, 0, 1]</td>\n",
       "      <td>0</td>\n",
       "      <td>0.000000</td>\n",
       "      <td>214543</td>\n",
       "      <td>15896</td>\n",
       "      <td>3.297244</td>\n",
       "      <td>0.244301</td>\n",
       "    </tr>\n",
       "    <tr>\n",
       "      <th>Cardiopatia</th>\n",
       "      <td>int8</td>\n",
       "      <td>3</td>\n",
       "      <td>[-1, 0, 1]</td>\n",
       "      <td>0</td>\n",
       "      <td>0.000000</td>\n",
       "      <td>99694</td>\n",
       "      <td>460822</td>\n",
       "      <td>1.532166</td>\n",
       "      <td>7.082228</td>\n",
       "    </tr>\n",
       "    <tr>\n",
       "      <th>Data_Inicio_Sintomas</th>\n",
       "      <td>datetime64[ns]</td>\n",
       "      <td>1140</td>\n",
       "      <td>2020-02-04 ... 2023-03-19</td>\n",
       "      <td>223555</td>\n",
       "      <td>3.435746</td>\n",
       "      <td>0</td>\n",
       "      <td>0</td>\n",
       "      <td>0.000000</td>\n",
       "      <td>0.000000</td>\n",
       "    </tr>\n",
       "    <tr>\n",
       "      <th>Diabetes</th>\n",
       "      <td>int8</td>\n",
       "      <td>3</td>\n",
       "      <td>[-1, 0, 1]</td>\n",
       "      <td>0</td>\n",
       "      <td>0.000000</td>\n",
       "      <td>139987</td>\n",
       "      <td>306603</td>\n",
       "      <td>2.151416</td>\n",
       "      <td>4.712085</td>\n",
       "    </tr>\n",
       "    <tr>\n",
       "      <th>Diagnostico_Covid19</th>\n",
       "      <td>int64</td>\n",
       "      <td>1</td>\n",
       "      <td>[1]</td>\n",
       "      <td>0</td>\n",
       "      <td>0.000000</td>\n",
       "      <td>0</td>\n",
       "      <td>6506738</td>\n",
       "      <td>0.000000</td>\n",
       "      <td>100.000000</td>\n",
       "    </tr>\n",
       "    <tr>\n",
       "      <th>Doenca_Hematologica</th>\n",
       "      <td>int8</td>\n",
       "      <td>3</td>\n",
       "      <td>[-1, 0, 1]</td>\n",
       "      <td>0</td>\n",
       "      <td>0.000000</td>\n",
       "      <td>222457</td>\n",
       "      <td>4425</td>\n",
       "      <td>3.418871</td>\n",
       "      <td>0.068006</td>\n",
       "    </tr>\n",
       "    <tr>\n",
       "      <th>Doenca_Hepatica</th>\n",
       "      <td>int8</td>\n",
       "      <td>3</td>\n",
       "      <td>[-1, 0, 1]</td>\n",
       "      <td>0</td>\n",
       "      <td>0.000000</td>\n",
       "      <td>221490</td>\n",
       "      <td>4626</td>\n",
       "      <td>3.404010</td>\n",
       "      <td>0.071096</td>\n",
       "    </tr>\n",
       "    <tr>\n",
       "      <th>Doenca_Neurologica</th>\n",
       "      <td>int8</td>\n",
       "      <td>3</td>\n",
       "      <td>[-1, 0, 1]</td>\n",
       "      <td>0</td>\n",
       "      <td>0.000000</td>\n",
       "      <td>210035</td>\n",
       "      <td>23352</td>\n",
       "      <td>3.227962</td>\n",
       "      <td>0.358890</td>\n",
       "    </tr>\n",
       "    <tr>\n",
       "      <th>Doenca Renal</th>\n",
       "      <td>int8</td>\n",
       "      <td>3</td>\n",
       "      <td>[-1, 0, 1]</td>\n",
       "      <td>0</td>\n",
       "      <td>0.000000</td>\n",
       "      <td>211531</td>\n",
       "      <td>31520</td>\n",
       "      <td>3.250953</td>\n",
       "      <td>0.484421</td>\n",
       "    </tr>\n",
       "    <tr>\n",
       "      <th>Genero</th>\n",
       "      <td>object</td>\n",
       "      <td>3</td>\n",
       "      <td>[FEMININO, INDEFINIDO, MASCULINO]</td>\n",
       "      <td>10</td>\n",
       "      <td>0.000154</td>\n",
       "      <td>0</td>\n",
       "      <td>0</td>\n",
       "      <td>0.000000</td>\n",
       "      <td>0.000000</td>\n",
       "    </tr>\n",
       "    <tr>\n",
       "      <th>Idade</th>\n",
       "      <td>float64</td>\n",
       "      <td>126</td>\n",
       "      <td>0.0 ... 2188.0</td>\n",
       "      <td>200007</td>\n",
       "      <td>3.073844</td>\n",
       "      <td>34788</td>\n",
       "      <td>24535</td>\n",
       "      <td>0.534646</td>\n",
       "      <td>0.377071</td>\n",
       "    </tr>\n",
       "    <tr>\n",
       "      <th>Imunodepressao</th>\n",
       "      <td>int8</td>\n",
       "      <td>3</td>\n",
       "      <td>[-1, 0, 1]</td>\n",
       "      <td>0</td>\n",
       "      <td>0.000000</td>\n",
       "      <td>215087</td>\n",
       "      <td>37908</td>\n",
       "      <td>3.305604</td>\n",
       "      <td>0.582596</td>\n",
       "    </tr>\n",
       "    <tr>\n",
       "      <th>Municipio</th>\n",
       "      <td>object</td>\n",
       "      <td>646</td>\n",
       "      <td></td>\n",
       "      <td>0</td>\n",
       "      <td>0.000000</td>\n",
       "      <td>0</td>\n",
       "      <td>0</td>\n",
       "      <td>0.000000</td>\n",
       "      <td>0.000000</td>\n",
       "    </tr>\n",
       "    <tr>\n",
       "      <th>Obesidade</th>\n",
       "      <td>int8</td>\n",
       "      <td>3</td>\n",
       "      <td>[-1, 0, 1]</td>\n",
       "      <td>0</td>\n",
       "      <td>0.000000</td>\n",
       "      <td>189053</td>\n",
       "      <td>48364</td>\n",
       "      <td>2.905496</td>\n",
       "      <td>0.743291</td>\n",
       "    </tr>\n",
       "    <tr>\n",
       "      <th>Obito</th>\n",
       "      <td>int64</td>\n",
       "      <td>2</td>\n",
       "      <td>[0, 1]</td>\n",
       "      <td>0</td>\n",
       "      <td>0.000000</td>\n",
       "      <td>6327441</td>\n",
       "      <td>179297</td>\n",
       "      <td>97.244441</td>\n",
       "      <td>2.755559</td>\n",
       "    </tr>\n",
       "    <tr>\n",
       "      <th>Outros_Fatores_De_Risco</th>\n",
       "      <td>int8</td>\n",
       "      <td>3</td>\n",
       "      <td>[-1, 0, 1]</td>\n",
       "      <td>0</td>\n",
       "      <td>0.000000</td>\n",
       "      <td>125183</td>\n",
       "      <td>150753</td>\n",
       "      <td>1.923898</td>\n",
       "      <td>2.316875</td>\n",
       "    </tr>\n",
       "    <tr>\n",
       "      <th>Pneumopatia</th>\n",
       "      <td>int8</td>\n",
       "      <td>3</td>\n",
       "      <td>[-1, 0, 1]</td>\n",
       "      <td>0</td>\n",
       "      <td>0.000000</td>\n",
       "      <td>213018</td>\n",
       "      <td>19686</td>\n",
       "      <td>3.273806</td>\n",
       "      <td>0.302548</td>\n",
       "    </tr>\n",
       "    <tr>\n",
       "      <th>Puérpera</th>\n",
       "      <td>int8</td>\n",
       "      <td>3</td>\n",
       "      <td>[-1, 0, 1]</td>\n",
       "      <td>0</td>\n",
       "      <td>0.000000</td>\n",
       "      <td>223338</td>\n",
       "      <td>1658</td>\n",
       "      <td>3.432411</td>\n",
       "      <td>0.025481</td>\n",
       "    </tr>\n",
       "    <tr>\n",
       "      <th>Síndrome_De_Down</th>\n",
       "      <td>int8</td>\n",
       "      <td>3</td>\n",
       "      <td>[-1, 0, 1]</td>\n",
       "      <td>0</td>\n",
       "      <td>0.000000</td>\n",
       "      <td>225038</td>\n",
       "      <td>1428</td>\n",
       "      <td>3.458538</td>\n",
       "      <td>0.021946</td>\n",
       "    </tr>\n",
       "  </tbody>\n",
       "</table>\n",
       "</div>"
      ],
      "text/plain": [
       "                                   Tipo  Qtd_Categorias  \\\n",
       "Asma                               int8               3   \n",
       "Cardiopatia                        int8               3   \n",
       "Data_Inicio_Sintomas     datetime64[ns]            1140   \n",
       "Diabetes                           int8               3   \n",
       "Diagnostico_Covid19               int64               1   \n",
       "Doenca_Hematologica                int8               3   \n",
       "Doenca_Hepatica                    int8               3   \n",
       "Doenca_Neurologica                 int8               3   \n",
       "Doenca Renal                       int8               3   \n",
       "Genero                           object               3   \n",
       "Idade                           float64             126   \n",
       "Imunodepressao                     int8               3   \n",
       "Municipio                        object             646   \n",
       "Obesidade                          int8               3   \n",
       "Obito                             int64               2   \n",
       "Outros_Fatores_De_Risco            int8               3   \n",
       "Pneumopatia                        int8               3   \n",
       "Puérpera                           int8               3   \n",
       "Síndrome_De_Down                   int8               3   \n",
       "\n",
       "                                                   Valores  Qtd_Missing  \\\n",
       "Asma                                            [-1, 0, 1]            0   \n",
       "Cardiopatia                                     [-1, 0, 1]            0   \n",
       "Data_Inicio_Sintomas             2020-02-04 ... 2023-03-19       223555   \n",
       "Diabetes                                        [-1, 0, 1]            0   \n",
       "Diagnostico_Covid19                                    [1]            0   \n",
       "Doenca_Hematologica                             [-1, 0, 1]            0   \n",
       "Doenca_Hepatica                                 [-1, 0, 1]            0   \n",
       "Doenca_Neurologica                              [-1, 0, 1]            0   \n",
       "Doenca Renal                                    [-1, 0, 1]            0   \n",
       "Genero                   [FEMININO, INDEFINIDO, MASCULINO]           10   \n",
       "Idade                                       0.0 ... 2188.0       200007   \n",
       "Imunodepressao                                  [-1, 0, 1]            0   \n",
       "Municipio                                                             0   \n",
       "Obesidade                                       [-1, 0, 1]            0   \n",
       "Obito                                               [0, 1]            0   \n",
       "Outros_Fatores_De_Risco                         [-1, 0, 1]            0   \n",
       "Pneumopatia                                     [-1, 0, 1]            0   \n",
       "Puérpera                                        [-1, 0, 1]            0   \n",
       "Síndrome_De_Down                                [-1, 0, 1]            0   \n",
       "\n",
       "                         % Missing    Qtd_0    Qtd_1        % 0         % 1  \n",
       "Asma                      0.000000   214543    15896   3.297244    0.244301  \n",
       "Cardiopatia               0.000000    99694   460822   1.532166    7.082228  \n",
       "Data_Inicio_Sintomas      3.435746        0        0   0.000000    0.000000  \n",
       "Diabetes                  0.000000   139987   306603   2.151416    4.712085  \n",
       "Diagnostico_Covid19       0.000000        0  6506738   0.000000  100.000000  \n",
       "Doenca_Hematologica       0.000000   222457     4425   3.418871    0.068006  \n",
       "Doenca_Hepatica           0.000000   221490     4626   3.404010    0.071096  \n",
       "Doenca_Neurologica        0.000000   210035    23352   3.227962    0.358890  \n",
       "Doenca Renal              0.000000   211531    31520   3.250953    0.484421  \n",
       "Genero                    0.000154        0        0   0.000000    0.000000  \n",
       "Idade                     3.073844    34788    24535   0.534646    0.377071  \n",
       "Imunodepressao            0.000000   215087    37908   3.305604    0.582596  \n",
       "Municipio                 0.000000        0        0   0.000000    0.000000  \n",
       "Obesidade                 0.000000   189053    48364   2.905496    0.743291  \n",
       "Obito                     0.000000  6327441   179297  97.244441    2.755559  \n",
       "Outros_Fatores_De_Risco   0.000000   125183   150753   1.923898    2.316875  \n",
       "Pneumopatia               0.000000   213018    19686   3.273806    0.302548  \n",
       "Puérpera                  0.000000   223338     1658   3.432411    0.025481  \n",
       "Síndrome_De_Down          0.000000   225038     1428   3.458538    0.021946  "
      ]
     },
     "execution_count": 10,
     "metadata": {},
     "output_type": "execute_result"
    }
   ],
   "source": [
    "stat = get_df_stats(df)\n",
    "stat"
   ]
  },
  {
   "cell_type": "markdown",
   "metadata": {},
   "source": [
    "## Data Cleaning"
   ]
  },
  {
   "cell_type": "code",
   "execution_count": 17,
   "metadata": {},
   "outputs": [],
   "source": [
    "df_bkp = df # guardando bkp do dataframe após trandormações"
   ]
  },
  {
   "cell_type": "code",
   "execution_count": 18,
   "metadata": {},
   "outputs": [],
   "source": [
    "df = df_bkp"
   ]
  },
  {
   "cell_type": "markdown",
   "metadata": {},
   "source": [
    "#### Verificando Genero"
   ]
  },
  {
   "cell_type": "code",
   "execution_count": 19,
   "metadata": {},
   "outputs": [
    {
     "data": {
      "text/plain": [
       "FEMININO     3553298\n",
       "MASCULINO    2949959\n",
       "Name: Genero, dtype: int64"
      ]
     },
     "execution_count": 19,
     "metadata": {},
     "output_type": "execute_result"
    }
   ],
   "source": [
    "df['Genero'].fillna('NA').value_counts()"
   ]
  },
  {
   "cell_type": "code",
   "execution_count": 20,
   "metadata": {},
   "outputs": [
    {
     "data": {
      "text/plain": [
       "Series([], Name: Obito, dtype: int64)"
      ]
     },
     "execution_count": 20,
     "metadata": {},
     "output_type": "execute_result"
    }
   ],
   "source": [
    "df.query('Genero == \"INDEFINIDO\" or Genero.isna()')['Obito'].value_counts()"
   ]
  },
  {
   "cell_type": "markdown",
   "metadata": {},
   "source": [
    "A princípio a variável Genero com o dados nulos ou INDEFINIDO não trazem nenhuma diferenciação na contagem de Obitos, já que são todos iguais a 0.\n",
    "Dessa forma, não vejo sentiro em criar uma categoria para representar tal valor, e como a incidência é bem baixa, resolvi excluir essas linhas para não atrapalhar o modelo"
   ]
  },
  {
   "cell_type": "code",
   "execution_count": 21,
   "metadata": {},
   "outputs": [],
   "source": [
    "df = df.query('Genero != \"INDEFINIDO\" and Genero.notna()')"
   ]
  },
  {
   "cell_type": "code",
   "execution_count": 22,
   "metadata": {},
   "outputs": [
    {
     "data": {
      "text/plain": [
       "FEMININO     3553298\n",
       "MASCULINO    2949959\n",
       "Name: Genero, dtype: int64"
      ]
     },
     "execution_count": 22,
     "metadata": {},
     "output_type": "execute_result"
    }
   ],
   "source": [
    "df['Genero'].fillna('NA').value_counts()"
   ]
  },
  {
   "cell_type": "markdown",
   "metadata": {},
   "source": [
    "#### Verificando Idade"
   ]
  },
  {
   "cell_type": "markdown",
   "metadata": {},
   "source": [
    "Estimando limite de corte de Idade a partir mediana + 4 desvios"
   ]
  },
  {
   "cell_type": "code",
   "execution_count": 23,
   "metadata": {},
   "outputs": [
    {
     "name": "stdout",
     "output_type": "stream",
     "text": [
      "Idade limite de corte considerando 4 desvios: 113.55780075219582\n"
     ]
    },
    {
     "data": {
      "text/plain": [
       "<AxesSubplot:xlabel='Idade'>"
      ]
     },
     "execution_count": 23,
     "metadata": {},
     "output_type": "execute_result"
    },
    {
     "data": {
      "image/png": "[encoded data removed]",
      "text/plain": [
       "<Figure size 432x288 with 1 Axes>"
      ]
     },
     "metadata": {
      "needs_background": "light"
     },
     "output_type": "display_data"
    }
   ],
   "source": [
    "limite_idade = df['Idade'].median() + (4 * df['Idade'].std())\n",
    "print('Idade limite de corte considerando 4 desvios:', limite_idade)\n",
    "\n",
    "# Checando Idade\n",
    "sns.boxenplot(x=df['Idade'])"
   ]
  },
  {
   "cell_type": "markdown",
   "metadata": {},
   "source": [
    "Verificando frequência de idades acima da faixa de corte"
   ]
  },
  {
   "cell_type": "code",
   "execution_count": 24,
   "metadata": {},
   "outputs": [
    {
     "data": {
      "text/plain": [
       "<seaborn.axisgrid.FacetGrid at 0x21400a05df0>"
      ]
     },
     "execution_count": 24,
     "metadata": {},
     "output_type": "execute_result"
    },
    {
     "data": {
      "image/png": "[encoded data removed]",
      "text/plain": [
       "<Figure size 864x288 with 1 Axes>"
      ]
     },
     "metadata": {
      "needs_background": "light"
     },
     "output_type": "display_data"
    }
   ],
   "source": [
    "sns.catplot(x='Idade', kind='count', data=df.query(f'Idade > {limite_idade}'), height=4, aspect=3/1)"
   ]
  },
  {
   "cell_type": "code",
   "execution_count": 25,
   "metadata": {},
   "outputs": [
    {
     "data": {
      "text/plain": [
       "<seaborn.axisgrid.FacetGrid at 0x21400a05820>"
      ]
     },
     "execution_count": 25,
     "metadata": {},
     "output_type": "execute_result"
    },
    {
     "data": {
      "image/png": "[encoded data removed]",
      "text/plain": [
       "<Figure size 864x288 with 1 Axes>"
      ]
     },
     "metadata": {
      "needs_background": "light"
     },
     "output_type": "display_data"
    }
   ],
   "source": [
    "sns.catplot(x='Idade', kind='count', data=df.query('Idade > 100 & Idade < 150'), height=4, aspect=3/1)"
   ]
  },
  {
   "cell_type": "markdown",
   "metadata": {},
   "source": [
    "Observando os gráficos acima, podemos perceber que existe uma grande concentração de ocorrências de Idade=120. Tal número parece não fazer sentido pois destoa da curva de distribuição, além de estar significativamente acima da expectativa de vida atual de aproximadamente 80 anos, segundo relatório do [IBGE](https://www.ibge.gov.br/novo-portal-destaques.html?destaque=35600). \n",
    "\n",
    "Desta forma, decidi fazer a exclusão dos registros com idade >= 120 e observar novamente a distribuição"
   ]
  },
  {
   "cell_type": "code",
   "execution_count": 26,
   "metadata": {},
   "outputs": [],
   "source": [
    "df = df.query('Idade < 120')"
   ]
  },
  {
   "cell_type": "code",
   "execution_count": 27,
   "metadata": {},
   "outputs": [
    {
     "data": {
      "text/plain": [
       "<seaborn.axisgrid.FacetGrid at 0x21402071220>"
      ]
     },
     "execution_count": 27,
     "metadata": {},
     "output_type": "execute_result"
    },
    {
     "data": {
      "image/png": "[encoded data removed]",
      "text/plain": [
       "<Figure size 864x288 with 1 Axes>"
      ]
     },
     "metadata": {
      "needs_background": "light"
     },
     "output_type": "display_data"
    }
   ],
   "source": [
    "#sns.catplot(x='Genero', hue='Obito', kind='count', data=df)\n",
    "sns.catplot(x='Idade', kind='count', data=df.query('Idade > 100'), height=4, aspect=3/1)"
   ]
  },
  {
   "cell_type": "code",
   "execution_count": 28,
   "metadata": {},
   "outputs": [
    {
     "data": {
      "text/plain": [
       "114.0    7\n",
       "117.0    5\n",
       "118.0    4\n",
       "116.0    3\n",
       "119.0    3\n",
       "115.0    3\n",
       "Name: Idade, dtype: int64"
      ]
     },
     "execution_count": 28,
     "metadata": {},
     "output_type": "execute_result"
    }
   ],
   "source": [
    "df.query(f'Idade > {limite_idade}')['Idade'].value_counts()"
   ]
  },
  {
   "cell_type": "markdown",
   "metadata": {},
   "source": [
    "Como são pouquíssimos registros que ficaram com a Idade acima do limite de corte calculado, e parecem estar alinhados com uma distribuição normal, resolvi não utilizar o corte calculado e manter esses registros."
   ]
  },
  {
   "cell_type": "code",
   "execution_count": 29,
   "metadata": {},
   "outputs": [
    {
     "data": {
      "text/html": [
       "<div>\n",
       "<style scoped>\n",
       "    .dataframe tbody tr th:only-of-type {\n",
       "        vertical-align: middle;\n",
       "    }\n",
       "\n",
       "    .dataframe tbody tr th {\n",
       "        vertical-align: top;\n",
       "    }\n",
       "\n",
       "    .dataframe thead th {\n",
       "        text-align: right;\n",
       "    }\n",
       "</style>\n",
       "<table border=\"1\" class=\"dataframe\">\n",
       "  <thead>\n",
       "    <tr style=\"text-align: right;\">\n",
       "      <th></th>\n",
       "      <th>Tipo</th>\n",
       "      <th>Qtd_Categorias</th>\n",
       "      <th>Valores</th>\n",
       "      <th>Qtd_Missing</th>\n",
       "      <th>% Missing</th>\n",
       "      <th>Qtd_0</th>\n",
       "      <th>Qtd_1</th>\n",
       "      <th>% 0</th>\n",
       "      <th>% 1</th>\n",
       "    </tr>\n",
       "  </thead>\n",
       "  <tbody>\n",
       "    <tr>\n",
       "      <th>Asma</th>\n",
       "      <td>int8</td>\n",
       "      <td>3</td>\n",
       "      <td>[-1, 0, 1]</td>\n",
       "      <td>0</td>\n",
       "      <td>0.000000</td>\n",
       "      <td>214543</td>\n",
       "      <td>15896</td>\n",
       "      <td>3.403782</td>\n",
       "      <td>0.252194</td>\n",
       "    </tr>\n",
       "    <tr>\n",
       "      <th>Cardiopatia</th>\n",
       "      <td>int8</td>\n",
       "      <td>3</td>\n",
       "      <td>[-1, 0, 1]</td>\n",
       "      <td>0</td>\n",
       "      <td>0.000000</td>\n",
       "      <td>99694</td>\n",
       "      <td>458197</td>\n",
       "      <td>1.581672</td>\n",
       "      <td>7.269418</td>\n",
       "    </tr>\n",
       "    <tr>\n",
       "      <th>Data_Inicio_Sintomas</th>\n",
       "      <td>datetime64[ns]</td>\n",
       "      <td>1140</td>\n",
       "      <td>2020-02-04 ... 2023-03-19</td>\n",
       "      <td>27634</td>\n",
       "      <td>0.438421</td>\n",
       "      <td>0</td>\n",
       "      <td>0</td>\n",
       "      <td>0.000000</td>\n",
       "      <td>0.000000</td>\n",
       "    </tr>\n",
       "    <tr>\n",
       "      <th>Diabetes</th>\n",
       "      <td>int8</td>\n",
       "      <td>3</td>\n",
       "      <td>[-1, 0, 1]</td>\n",
       "      <td>0</td>\n",
       "      <td>0.000000</td>\n",
       "      <td>139987</td>\n",
       "      <td>304293</td>\n",
       "      <td>2.220931</td>\n",
       "      <td>4.827690</td>\n",
       "    </tr>\n",
       "    <tr>\n",
       "      <th>Diagnostico_Covid19</th>\n",
       "      <td>int64</td>\n",
       "      <td>1</td>\n",
       "      <td>[1]</td>\n",
       "      <td>0</td>\n",
       "      <td>0.000000</td>\n",
       "      <td>0</td>\n",
       "      <td>6303077</td>\n",
       "      <td>0.000000</td>\n",
       "      <td>100.000000</td>\n",
       "    </tr>\n",
       "    <tr>\n",
       "      <th>Doenca_Hematologica</th>\n",
       "      <td>int8</td>\n",
       "      <td>3</td>\n",
       "      <td>[-1, 0, 1]</td>\n",
       "      <td>0</td>\n",
       "      <td>0.000000</td>\n",
       "      <td>222457</td>\n",
       "      <td>4425</td>\n",
       "      <td>3.529340</td>\n",
       "      <td>0.070204</td>\n",
       "    </tr>\n",
       "    <tr>\n",
       "      <th>Doenca_Hepatica</th>\n",
       "      <td>int8</td>\n",
       "      <td>3</td>\n",
       "      <td>[-1, 0, 1]</td>\n",
       "      <td>0</td>\n",
       "      <td>0.000000</td>\n",
       "      <td>221490</td>\n",
       "      <td>4626</td>\n",
       "      <td>3.513998</td>\n",
       "      <td>0.073393</td>\n",
       "    </tr>\n",
       "    <tr>\n",
       "      <th>Doenca_Neurologica</th>\n",
       "      <td>int8</td>\n",
       "      <td>3</td>\n",
       "      <td>[-1, 0, 1]</td>\n",
       "      <td>0</td>\n",
       "      <td>0.000000</td>\n",
       "      <td>210035</td>\n",
       "      <td>23352</td>\n",
       "      <td>3.332261</td>\n",
       "      <td>0.370486</td>\n",
       "    </tr>\n",
       "    <tr>\n",
       "      <th>Doenca Renal</th>\n",
       "      <td>int8</td>\n",
       "      <td>3</td>\n",
       "      <td>[-1, 0, 1]</td>\n",
       "      <td>0</td>\n",
       "      <td>0.000000</td>\n",
       "      <td>211531</td>\n",
       "      <td>31259</td>\n",
       "      <td>3.355996</td>\n",
       "      <td>0.495932</td>\n",
       "    </tr>\n",
       "    <tr>\n",
       "      <th>Genero</th>\n",
       "      <td>object</td>\n",
       "      <td>2</td>\n",
       "      <td>[FEMININO, MASCULINO]</td>\n",
       "      <td>0</td>\n",
       "      <td>0.000000</td>\n",
       "      <td>0</td>\n",
       "      <td>0</td>\n",
       "      <td>0.000000</td>\n",
       "      <td>0.000000</td>\n",
       "    </tr>\n",
       "    <tr>\n",
       "      <th>Idade</th>\n",
       "      <td>float64</td>\n",
       "      <td>120</td>\n",
       "      <td>0.0 ... 119.0</td>\n",
       "      <td>0</td>\n",
       "      <td>0.000000</td>\n",
       "      <td>34785</td>\n",
       "      <td>24532</td>\n",
       "      <td>0.551873</td>\n",
       "      <td>0.389207</td>\n",
       "    </tr>\n",
       "    <tr>\n",
       "      <th>Imunodepressao</th>\n",
       "      <td>int8</td>\n",
       "      <td>3</td>\n",
       "      <td>[-1, 0, 1]</td>\n",
       "      <td>0</td>\n",
       "      <td>0.000000</td>\n",
       "      <td>215087</td>\n",
       "      <td>37438</td>\n",
       "      <td>3.412413</td>\n",
       "      <td>0.593964</td>\n",
       "    </tr>\n",
       "    <tr>\n",
       "      <th>Municipio</th>\n",
       "      <td>object</td>\n",
       "      <td>646</td>\n",
       "      <td></td>\n",
       "      <td>0</td>\n",
       "      <td>0.000000</td>\n",
       "      <td>0</td>\n",
       "      <td>0</td>\n",
       "      <td>0.000000</td>\n",
       "      <td>0.000000</td>\n",
       "    </tr>\n",
       "    <tr>\n",
       "      <th>Obesidade</th>\n",
       "      <td>int8</td>\n",
       "      <td>3</td>\n",
       "      <td>[-1, 0, 1]</td>\n",
       "      <td>0</td>\n",
       "      <td>0.000000</td>\n",
       "      <td>189053</td>\n",
       "      <td>48364</td>\n",
       "      <td>2.999376</td>\n",
       "      <td>0.767308</td>\n",
       "    </tr>\n",
       "    <tr>\n",
       "      <th>Obito</th>\n",
       "      <td>int64</td>\n",
       "      <td>2</td>\n",
       "      <td>[0, 1]</td>\n",
       "      <td>0</td>\n",
       "      <td>0.000000</td>\n",
       "      <td>6123780</td>\n",
       "      <td>179297</td>\n",
       "      <td>97.155405</td>\n",
       "      <td>2.844595</td>\n",
       "    </tr>\n",
       "    <tr>\n",
       "      <th>Outros_Fatores_De_Risco</th>\n",
       "      <td>int8</td>\n",
       "      <td>3</td>\n",
       "      <td>[-1, 0, 1]</td>\n",
       "      <td>0</td>\n",
       "      <td>0.000000</td>\n",
       "      <td>125183</td>\n",
       "      <td>150752</td>\n",
       "      <td>1.986062</td>\n",
       "      <td>2.391721</td>\n",
       "    </tr>\n",
       "    <tr>\n",
       "      <th>Pneumopatia</th>\n",
       "      <td>int8</td>\n",
       "      <td>3</td>\n",
       "      <td>[-1, 0, 1]</td>\n",
       "      <td>0</td>\n",
       "      <td>0.000000</td>\n",
       "      <td>213018</td>\n",
       "      <td>19686</td>\n",
       "      <td>3.379587</td>\n",
       "      <td>0.312324</td>\n",
       "    </tr>\n",
       "    <tr>\n",
       "      <th>Puérpera</th>\n",
       "      <td>int8</td>\n",
       "      <td>3</td>\n",
       "      <td>[-1, 0, 1]</td>\n",
       "      <td>0</td>\n",
       "      <td>0.000000</td>\n",
       "      <td>223338</td>\n",
       "      <td>1658</td>\n",
       "      <td>3.543317</td>\n",
       "      <td>0.026305</td>\n",
       "    </tr>\n",
       "    <tr>\n",
       "      <th>Síndrome_De_Down</th>\n",
       "      <td>int8</td>\n",
       "      <td>3</td>\n",
       "      <td>[-1, 0, 1]</td>\n",
       "      <td>0</td>\n",
       "      <td>0.000000</td>\n",
       "      <td>225038</td>\n",
       "      <td>1428</td>\n",
       "      <td>3.570288</td>\n",
       "      <td>0.022656</td>\n",
       "    </tr>\n",
       "  </tbody>\n",
       "</table>\n",
       "</div>"
      ],
      "text/plain": [
       "                                   Tipo  Qtd_Categorias  \\\n",
       "Asma                               int8               3   \n",
       "Cardiopatia                        int8               3   \n",
       "Data_Inicio_Sintomas     datetime64[ns]            1140   \n",
       "Diabetes                           int8               3   \n",
       "Diagnostico_Covid19               int64               1   \n",
       "Doenca_Hematologica                int8               3   \n",
       "Doenca_Hepatica                    int8               3   \n",
       "Doenca_Neurologica                 int8               3   \n",
       "Doenca Renal                       int8               3   \n",
       "Genero                           object               2   \n",
       "Idade                           float64             120   \n",
       "Imunodepressao                     int8               3   \n",
       "Municipio                        object             646   \n",
       "Obesidade                          int8               3   \n",
       "Obito                             int64               2   \n",
       "Outros_Fatores_De_Risco            int8               3   \n",
       "Pneumopatia                        int8               3   \n",
       "Puérpera                           int8               3   \n",
       "Síndrome_De_Down                   int8               3   \n",
       "\n",
       "                                           Valores  Qtd_Missing  % Missing  \\\n",
       "Asma                                    [-1, 0, 1]            0   0.000000   \n",
       "Cardiopatia                             [-1, 0, 1]            0   0.000000   \n",
       "Data_Inicio_Sintomas     2020-02-04 ... 2023-03-19        27634   0.438421   \n",
       "Diabetes                                [-1, 0, 1]            0   0.000000   \n",
       "Diagnostico_Covid19                            [1]            0   0.000000   \n",
       "Doenca_Hematologica                     [-1, 0, 1]            0   0.000000   \n",
       "Doenca_Hepatica                         [-1, 0, 1]            0   0.000000   \n",
       "Doenca_Neurologica                      [-1, 0, 1]            0   0.000000   \n",
       "Doenca Renal                            [-1, 0, 1]            0   0.000000   \n",
       "Genero                       [FEMININO, MASCULINO]            0   0.000000   \n",
       "Idade                                0.0 ... 119.0            0   0.000000   \n",
       "Imunodepressao                          [-1, 0, 1]            0   0.000000   \n",
       "Municipio                                                     0   0.000000   \n",
       "Obesidade                               [-1, 0, 1]            0   0.000000   \n",
       "Obito                                       [0, 1]            0   0.000000   \n",
       "Outros_Fatores_De_Risco                 [-1, 0, 1]            0   0.000000   \n",
       "Pneumopatia                             [-1, 0, 1]            0   0.000000   \n",
       "Puérpera                                [-1, 0, 1]            0   0.000000   \n",
       "Síndrome_De_Down                        [-1, 0, 1]            0   0.000000   \n",
       "\n",
       "                           Qtd_0    Qtd_1        % 0         % 1  \n",
       "Asma                      214543    15896   3.403782    0.252194  \n",
       "Cardiopatia                99694   458197   1.581672    7.269418  \n",
       "Data_Inicio_Sintomas           0        0   0.000000    0.000000  \n",
       "Diabetes                  139987   304293   2.220931    4.827690  \n",
       "Diagnostico_Covid19            0  6303077   0.000000  100.000000  \n",
       "Doenca_Hematologica       222457     4425   3.529340    0.070204  \n",
       "Doenca_Hepatica           221490     4626   3.513998    0.073393  \n",
       "Doenca_Neurologica        210035    23352   3.332261    0.370486  \n",
       "Doenca Renal              211531    31259   3.355996    0.495932  \n",
       "Genero                         0        0   0.000000    0.000000  \n",
       "Idade                      34785    24532   0.551873    0.389207  \n",
       "Imunodepressao            215087    37438   3.412413    0.593964  \n",
       "Municipio                      0        0   0.000000    0.000000  \n",
       "Obesidade                 189053    48364   2.999376    0.767308  \n",
       "Obito                    6123780   179297  97.155405    2.844595  \n",
       "Outros_Fatores_De_Risco   125183   150752   1.986062    2.391721  \n",
       "Pneumopatia               213018    19686   3.379587    0.312324  \n",
       "Puérpera                  223338     1658   3.543317    0.026305  \n",
       "Síndrome_De_Down          225038     1428   3.570288    0.022656  "
      ]
     },
     "execution_count": 29,
     "metadata": {},
     "output_type": "execute_result"
    }
   ],
   "source": [
    "stat = get_df_stats(df)\n",
    "stat"
   ]
  },
  {
   "cell_type": "markdown",
   "metadata": {},
   "source": [
    "# Analisando os dados"
   ]
  },
  {
   "cell_type": "markdown",
   "metadata": {},
   "source": [
    "### 1. Existe diferença de incidência de covid entre homens e mulheres?"
   ]
  },
  {
   "cell_type": "code",
   "execution_count": 34,
   "metadata": {},
   "outputs": [
    {
     "data": {
      "text/plain": [
       "FEMININO     0.546782\n",
       "MASCULINO    0.453218\n",
       "Name: Genero, dtype: float64"
      ]
     },
     "execution_count": 34,
     "metadata": {},
     "output_type": "execute_result"
    }
   ],
   "source": [
    "df['Genero'].value_counts(normalize=True)\n"
   ]
  },
  {
   "cell_type": "markdown",
   "metadata": {},
   "source": [
    "Segundo dados obtidos no site do [SEADE](https://populacao.seade.gov.br/), a população atual em SP está dividida em 51.3% de mulheres e 48.7% de homens\n",
    "Dessa forma, a incidência de covid em mulheres ser de 54.6%, pode ser apenas um reflexo da população<br>\n",
    "Outro hipótese importante é que as mulheres procuram mais atendimento médico do que os homens<br>\n",
    "Poderíamos testar a inciência de covid em mulheres comparando com o total de mulheres, caso tivéssemos uma base completa incluindo os casos não confirmados"
   ]
  },
  {
   "cell_type": "code",
   "execution_count": 52,
   "metadata": {},
   "outputs": [
    {
     "name": "stdout",
     "output_type": "stream",
     "text": [
      "\u001b[1;31mSignature:\u001b[0m\n",
      "\u001b[0msns\u001b[0m\u001b[1;33m.\u001b[0m\u001b[0mhistplot\u001b[0m\u001b[1;33m(\u001b[0m\u001b[1;33m\n",
      "\u001b[0m    \u001b[0mdata\u001b[0m\u001b[1;33m=\u001b[0m\u001b[1;32mNone\u001b[0m\u001b[1;33m,\u001b[0m\u001b[1;33m\n",
      "\u001b[0m    \u001b[1;33m*\u001b[0m\u001b[1;33m,\u001b[0m\u001b[1;33m\n",
      "\u001b[0m    \u001b[0mx\u001b[0m\u001b[1;33m=\u001b[0m\u001b[1;32mNone\u001b[0m\u001b[1;33m,\u001b[0m\u001b[1;33m\n",
      "\u001b[0m    \u001b[0my\u001b[0m\u001b[1;33m=\u001b[0m\u001b[1;32mNone\u001b[0m\u001b[1;33m,\u001b[0m\u001b[1;33m\n",
      "\u001b[0m    \u001b[0mhue\u001b[0m\u001b[1;33m=\u001b[0m\u001b[1;32mNone\u001b[0m\u001b[1;33m,\u001b[0m\u001b[1;33m\n",
      "\u001b[0m    \u001b[0mweights\u001b[0m\u001b[1;33m=\u001b[0m\u001b[1;32mNone\u001b[0m\u001b[1;33m,\u001b[0m\u001b[1;33m\n",
      "\u001b[0m    \u001b[0mstat\u001b[0m\u001b[1;33m=\u001b[0m\u001b[1;34m'count'\u001b[0m\u001b[1;33m,\u001b[0m\u001b[1;33m\n",
      "\u001b[0m    \u001b[0mbins\u001b[0m\u001b[1;33m=\u001b[0m\u001b[1;34m'auto'\u001b[0m\u001b[1;33m,\u001b[0m\u001b[1;33m\n",
      "\u001b[0m    \u001b[0mbinwidth\u001b[0m\u001b[1;33m=\u001b[0m\u001b[1;32mNone\u001b[0m\u001b[1;33m,\u001b[0m\u001b[1;33m\n",
      "\u001b[0m    \u001b[0mbinrange\u001b[0m\u001b[1;33m=\u001b[0m\u001b[1;32mNone\u001b[0m\u001b[1;33m,\u001b[0m\u001b[1;33m\n",
      "\u001b[0m    \u001b[0mdiscrete\u001b[0m\u001b[1;33m=\u001b[0m\u001b[1;32mNone\u001b[0m\u001b[1;33m,\u001b[0m\u001b[1;33m\n",
      "\u001b[0m    \u001b[0mcumulative\u001b[0m\u001b[1;33m=\u001b[0m\u001b[1;32mFalse\u001b[0m\u001b[1;33m,\u001b[0m\u001b[1;33m\n",
      "\u001b[0m    \u001b[0mcommon_bins\u001b[0m\u001b[1;33m=\u001b[0m\u001b[1;32mTrue\u001b[0m\u001b[1;33m,\u001b[0m\u001b[1;33m\n",
      "\u001b[0m    \u001b[0mcommon_norm\u001b[0m\u001b[1;33m=\u001b[0m\u001b[1;32mTrue\u001b[0m\u001b[1;33m,\u001b[0m\u001b[1;33m\n",
      "\u001b[0m    \u001b[0mmultiple\u001b[0m\u001b[1;33m=\u001b[0m\u001b[1;34m'layer'\u001b[0m\u001b[1;33m,\u001b[0m\u001b[1;33m\n",
      "\u001b[0m    \u001b[0melement\u001b[0m\u001b[1;33m=\u001b[0m\u001b[1;34m'bars'\u001b[0m\u001b[1;33m,\u001b[0m\u001b[1;33m\n",
      "\u001b[0m    \u001b[0mfill\u001b[0m\u001b[1;33m=\u001b[0m\u001b[1;32mTrue\u001b[0m\u001b[1;33m,\u001b[0m\u001b[1;33m\n",
      "\u001b[0m    \u001b[0mshrink\u001b[0m\u001b[1;33m=\u001b[0m\u001b[1;36m1\u001b[0m\u001b[1;33m,\u001b[0m\u001b[1;33m\n",
      "\u001b[0m    \u001b[0mkde\u001b[0m\u001b[1;33m=\u001b[0m\u001b[1;32mFalse\u001b[0m\u001b[1;33m,\u001b[0m\u001b[1;33m\n",
      "\u001b[0m    \u001b[0mkde_kws\u001b[0m\u001b[1;33m=\u001b[0m\u001b[1;32mNone\u001b[0m\u001b[1;33m,\u001b[0m\u001b[1;33m\n",
      "\u001b[0m    \u001b[0mline_kws\u001b[0m\u001b[1;33m=\u001b[0m\u001b[1;32mNone\u001b[0m\u001b[1;33m,\u001b[0m\u001b[1;33m\n",
      "\u001b[0m    \u001b[0mthresh\u001b[0m\u001b[1;33m=\u001b[0m\u001b[1;36m0\u001b[0m\u001b[1;33m,\u001b[0m\u001b[1;33m\n",
      "\u001b[0m    \u001b[0mpthresh\u001b[0m\u001b[1;33m=\u001b[0m\u001b[1;32mNone\u001b[0m\u001b[1;33m,\u001b[0m\u001b[1;33m\n",
      "\u001b[0m    \u001b[0mpmax\u001b[0m\u001b[1;33m=\u001b[0m\u001b[1;32mNone\u001b[0m\u001b[1;33m,\u001b[0m\u001b[1;33m\n",
      "\u001b[0m    \u001b[0mcbar\u001b[0m\u001b[1;33m=\u001b[0m\u001b[1;32mFalse\u001b[0m\u001b[1;33m,\u001b[0m\u001b[1;33m\n",
      "\u001b[0m    \u001b[0mcbar_ax\u001b[0m\u001b[1;33m=\u001b[0m\u001b[1;32mNone\u001b[0m\u001b[1;33m,\u001b[0m\u001b[1;33m\n",
      "\u001b[0m    \u001b[0mcbar_kws\u001b[0m\u001b[1;33m=\u001b[0m\u001b[1;32mNone\u001b[0m\u001b[1;33m,\u001b[0m\u001b[1;33m\n",
      "\u001b[0m    \u001b[0mpalette\u001b[0m\u001b[1;33m=\u001b[0m\u001b[1;32mNone\u001b[0m\u001b[1;33m,\u001b[0m\u001b[1;33m\n",
      "\u001b[0m    \u001b[0mhue_order\u001b[0m\u001b[1;33m=\u001b[0m\u001b[1;32mNone\u001b[0m\u001b[1;33m,\u001b[0m\u001b[1;33m\n",
      "\u001b[0m    \u001b[0mhue_norm\u001b[0m\u001b[1;33m=\u001b[0m\u001b[1;32mNone\u001b[0m\u001b[1;33m,\u001b[0m\u001b[1;33m\n",
      "\u001b[0m    \u001b[0mcolor\u001b[0m\u001b[1;33m=\u001b[0m\u001b[1;32mNone\u001b[0m\u001b[1;33m,\u001b[0m\u001b[1;33m\n",
      "\u001b[0m    \u001b[0mlog_scale\u001b[0m\u001b[1;33m=\u001b[0m\u001b[1;32mNone\u001b[0m\u001b[1;33m,\u001b[0m\u001b[1;33m\n",
      "\u001b[0m    \u001b[0mlegend\u001b[0m\u001b[1;33m=\u001b[0m\u001b[1;32mTrue\u001b[0m\u001b[1;33m,\u001b[0m\u001b[1;33m\n",
      "\u001b[0m    \u001b[0max\u001b[0m\u001b[1;33m=\u001b[0m\u001b[1;32mNone\u001b[0m\u001b[1;33m,\u001b[0m\u001b[1;33m\n",
      "\u001b[0m    \u001b[1;33m**\u001b[0m\u001b[0mkwargs\u001b[0m\u001b[1;33m,\u001b[0m\u001b[1;33m\n",
      "\u001b[0m\u001b[1;33m)\u001b[0m\u001b[1;33m\u001b[0m\u001b[1;33m\u001b[0m\u001b[0m\n",
      "\u001b[1;31mDocstring:\u001b[0m\n",
      "Plot univariate or bivariate histograms to show distributions of datasets.\n",
      "\n",
      "A histogram is a classic visualization tool that represents the distribution\n",
      "of one or more variables by counting the number of observations that fall within\n",
      "disrete bins.\n",
      "\n",
      "This function can normalize the statistic computed within each bin to estimate\n",
      "frequency, density or probability mass, and it can add a smooth curve obtained\n",
      "using a kernel density estimate, similar to :func:`kdeplot`.\n",
      "\n",
      "More information is provided in the :ref:`user guide <tutorial_hist>`.\n",
      "\n",
      "Parameters\n",
      "----------\n",
      "data : :class:`pandas.DataFrame`, :class:`numpy.ndarray`, mapping, or sequence\n",
      "    Input data structure. Either a long-form collection of vectors that can be\n",
      "    assigned to named variables or a wide-form dataset that will be internally\n",
      "    reshaped.\n",
      "x, y : vectors or keys in ``data``\n",
      "    Variables that specify positions on the x and y axes.\n",
      "hue : vector or key in ``data``\n",
      "    Semantic variable that is mapped to determine the color of plot elements.\n",
      "weights : vector or key in ``data``\n",
      "    If provided, weight the contribution of the corresponding data points\n",
      "    towards the count in each bin by these factors.\n",
      "stat : str\n",
      "    Aggregate statistic to compute in each bin.\n",
      "    \n",
      "    - `count`: show the number of observations in each bin\n",
      "    - `frequency`: show the number of observations divided by the bin width\n",
      "    - `probability`: or `proportion`: normalize such that bar heights sum to 1\n",
      "    - `percent`: normalize such that bar heights sum to 100\n",
      "    - `density`: normalize such that the total area of the histogram equals 1\n",
      "bins : str, number, vector, or a pair of such values\n",
      "    Generic bin parameter that can be the name of a reference rule,\n",
      "    the number of bins, or the breaks of the bins.\n",
      "    Passed to :func:`numpy.histogram_bin_edges`.\n",
      "binwidth : number or pair of numbers\n",
      "    Width of each bin, overrides ``bins`` but can be used with\n",
      "    ``binrange``.\n",
      "binrange : pair of numbers or a pair of pairs\n",
      "    Lowest and highest value for bin edges; can be used either\n",
      "    with ``bins`` or ``binwidth``. Defaults to data extremes.\n",
      "discrete : bool\n",
      "    If True, default to ``binwidth=1`` and draw the bars so that they are\n",
      "    centered on their corresponding data points. This avoids \"gaps\" that may\n",
      "    otherwise appear when using discrete (integer) data.\n",
      "cumulative : bool\n",
      "    If True, plot the cumulative counts as bins increase.\n",
      "common_bins : bool\n",
      "    If True, use the same bins when semantic variables produce multiple\n",
      "    plots. If using a reference rule to determine the bins, it will be computed\n",
      "    with the full dataset.\n",
      "common_norm : bool\n",
      "    If True and using a normalized statistic, the normalization will apply over\n",
      "    the full dataset. Otherwise, normalize each histogram independently.\n",
      "multiple : {\"layer\", \"dodge\", \"stack\", \"fill\"}\n",
      "    Approach to resolving multiple elements when semantic mapping creates subsets.\n",
      "    Only relevant with univariate data.\n",
      "element : {\"bars\", \"step\", \"poly\"}\n",
      "    Visual representation of the histogram statistic.\n",
      "    Only relevant with univariate data.\n",
      "fill : bool\n",
      "    If True, fill in the space under the histogram.\n",
      "    Only relevant with univariate data.\n",
      "shrink : number\n",
      "    Scale the width of each bar relative to the binwidth by this factor.\n",
      "    Only relevant with univariate data.\n",
      "kde : bool\n",
      "    If True, compute a kernel density estimate to smooth the distribution\n",
      "    and show on the plot as (one or more) line(s).\n",
      "    Only relevant with univariate data.\n",
      "kde_kws : dict\n",
      "    Parameters that control the KDE computation, as in :func:`kdeplot`.\n",
      "line_kws : dict\n",
      "    Parameters that control the KDE visualization, passed to\n",
      "    :meth:`matplotlib.axes.Axes.plot`.\n",
      "thresh : number or None\n",
      "    Cells with a statistic less than or equal to this value will be transparent.\n",
      "    Only relevant with bivariate data.\n",
      "pthresh : number or None\n",
      "    Like ``thresh``, but a value in [0, 1] such that cells with aggregate counts\n",
      "    (or other statistics, when used) up to this proportion of the total will be\n",
      "    transparent.\n",
      "pmax : number or None\n",
      "    A value in [0, 1] that sets that saturation point for the colormap at a value\n",
      "    such that cells below is constistute this proportion of the total count (or\n",
      "    other statistic, when used).\n",
      "cbar : bool\n",
      "    If True, add a colorbar to annotate the color mapping in a bivariate plot.\n",
      "    Note: Does not currently support plots with a ``hue`` variable well.\n",
      "cbar_ax : :class:`matplotlib.axes.Axes`\n",
      "    Pre-existing axes for the colorbar.\n",
      "cbar_kws : dict\n",
      "    Additional parameters passed to :meth:`matplotlib.figure.Figure.colorbar`.\n",
      "palette : string, list, dict, or :class:`matplotlib.colors.Colormap`\n",
      "    Method for choosing the colors to use when mapping the ``hue`` semantic.\n",
      "    String values are passed to :func:`color_palette`. List or dict values\n",
      "    imply categorical mapping, while a colormap object implies numeric mapping.\n",
      "hue_order : vector of strings\n",
      "    Specify the order of processing and plotting for categorical levels of the\n",
      "    ``hue`` semantic.\n",
      "hue_norm : tuple or :class:`matplotlib.colors.Normalize`\n",
      "    Either a pair of values that set the normalization range in data units\n",
      "    or an object that will map from data units into a [0, 1] interval. Usage\n",
      "    implies numeric mapping.\n",
      "color : :mod:`matplotlib color <matplotlib.colors>`\n",
      "    Single color specification for when hue mapping is not used. Otherwise, the\n",
      "    plot will try to hook into the matplotlib property cycle.\n",
      "log_scale : bool or number, or pair of bools or numbers\n",
      "    Set axis scale(s) to log. A single value sets the data axis for univariate\n",
      "    distributions and both axes for bivariate distributions. A pair of values\n",
      "    sets each axis independently. Numeric values are interpreted as the desired\n",
      "    base (default 10). If `False`, defer to the existing Axes scale.\n",
      "legend : bool\n",
      "    If False, suppress the legend for semantic variables.\n",
      "ax : :class:`matplotlib.axes.Axes`\n",
      "    Pre-existing axes for the plot. Otherwise, call :func:`matplotlib.pyplot.gca`\n",
      "    internally.\n",
      "kwargs\n",
      "    Other keyword arguments are passed to one of the following matplotlib\n",
      "    functions:\n",
      "\n",
      "    - :meth:`matplotlib.axes.Axes.bar` (univariate, element=\"bars\")\n",
      "    - :meth:`matplotlib.axes.Axes.fill_between` (univariate, other element, fill=True)\n",
      "    - :meth:`matplotlib.axes.Axes.plot` (univariate, other element, fill=False)\n",
      "    - :meth:`matplotlib.axes.Axes.pcolormesh` (bivariate)\n",
      "\n",
      "Returns\n",
      "-------\n",
      ":class:`matplotlib.axes.Axes`\n",
      "    The matplotlib axes containing the plot.\n",
      "\n",
      "See Also\n",
      "--------\n",
      "displot : Figure-level interface to distribution plot functions.\n",
      "kdeplot : Plot univariate or bivariate distributions using kernel density estimation.\n",
      "rugplot : Plot a tick at each observation value along the x and/or y axes.\n",
      "ecdfplot : Plot empirical cumulative distribution functions.\n",
      "jointplot : Draw a bivariate plot with univariate marginal distributions.\n",
      "\n",
      "Notes\n",
      "-----\n",
      "\n",
      "The choice of bins for computing and plotting a histogram can exert\n",
      "substantial influence on the insights that one is able to draw from the\n",
      "visualization. If the bins are too large, they may erase important features.\n",
      "On the other hand, bins that are too small may be dominated by random\n",
      "variability, obscuring the shape of the true underlying distribution. The\n",
      "default bin size is determined using a reference rule that depends on the\n",
      "sample size and variance. This works well in many cases, (i.e., with\n",
      "\"well-behaved\" data) but it fails in others. It is always a good to try\n",
      "different bin sizes to be sure that you are not missing something important.\n",
      "This function allows you to specify bins in several different ways, such as\n",
      "by setting the total number of bins to use, the width of each bin, or the\n",
      "specific locations where the bins should break.\n",
      "\n",
      "Examples\n",
      "--------\n",
      "\n",
      ".. include:: ../docstrings/histplot.rst\n",
      "\u001b[1;31mFile:\u001b[0m      c:\\users\\u009262\\anaconda3\\lib\\site-packages\\seaborn\\distributions.py\n",
      "\u001b[1;31mType:\u001b[0m      function\n"
     ]
    }
   ],
   "source": [
    "?sns.histplot"
   ]
  },
  {
   "cell_type": "markdown",
   "metadata": {},
   "source": [
    "### 2. Faça um gráfico da mortalidade por faixas de idade"
   ]
  },
  {
   "cell_type": "code",
   "execution_count": 148,
   "metadata": {},
   "outputs": [
    {
     "data": {
      "image/png": "[encoded data removed]",
      "text/plain": [
       "<Figure size 720x288 with 1 Axes>"
      ]
     },
     "metadata": {
      "needs_background": "light"
     },
     "output_type": "display_data"
    }
   ],
   "source": [
    "ax = sns.histplot(x='Idade', data=df.query('Obito==1'), stat='count', bins=[i*5 for i in range(int(max(df['Idade'])/5))])\n",
    "ax.set_xlabel('Idade das pessoas')\n",
    "ax.set_ylabel('Qtd de Óbitos')\n",
    "ax.grid()\n",
    "ax.set_title('Distribuição do número de óbitos por faixa de Idade')\n",
    "ax.figure.set_size_inches(10,4)"
   ]
  },
  {
   "cell_type": "code",
   "execution_count": 145,
   "metadata": {},
   "outputs": [],
   "source": []
  },
  {
   "cell_type": "markdown",
   "metadata": {},
   "source": [
    "### 3. Qual a doença pré-existente mais provável de se encontrar numa pessoa com covid?"
   ]
  },
  {
   "cell_type": "code",
   "execution_count": 133,
   "metadata": {},
   "outputs": [
    {
     "data": {
      "text/html": [
       "<div>\n",
       "<style scoped>\n",
       "    .dataframe tbody tr th:only-of-type {\n",
       "        vertical-align: middle;\n",
       "    }\n",
       "\n",
       "    .dataframe tbody tr th {\n",
       "        vertical-align: top;\n",
       "    }\n",
       "\n",
       "    .dataframe thead th {\n",
       "        text-align: right;\n",
       "    }\n",
       "</style>\n",
       "<table border=\"1\" class=\"dataframe\">\n",
       "  <thead>\n",
       "    <tr style=\"text-align: right;\">\n",
       "      <th></th>\n",
       "      <th>%</th>\n",
       "    </tr>\n",
       "  </thead>\n",
       "  <tbody>\n",
       "    <tr>\n",
       "      <th>Cardiopatia</th>\n",
       "      <td>7.269418</td>\n",
       "    </tr>\n",
       "    <tr>\n",
       "      <th>Diabetes</th>\n",
       "      <td>4.827690</td>\n",
       "    </tr>\n",
       "    <tr>\n",
       "      <th>Outros_Fatores_De_Risco</th>\n",
       "      <td>2.391721</td>\n",
       "    </tr>\n",
       "    <tr>\n",
       "      <th>Obesidade</th>\n",
       "      <td>0.767308</td>\n",
       "    </tr>\n",
       "    <tr>\n",
       "      <th>Imunodepressao</th>\n",
       "      <td>0.593964</td>\n",
       "    </tr>\n",
       "    <tr>\n",
       "      <th>Doenca Renal</th>\n",
       "      <td>0.495932</td>\n",
       "    </tr>\n",
       "    <tr>\n",
       "      <th>Doenca_Neurologica</th>\n",
       "      <td>0.370486</td>\n",
       "    </tr>\n",
       "    <tr>\n",
       "      <th>Pneumopatia</th>\n",
       "      <td>0.312324</td>\n",
       "    </tr>\n",
       "    <tr>\n",
       "      <th>Asma</th>\n",
       "      <td>0.252194</td>\n",
       "    </tr>\n",
       "    <tr>\n",
       "      <th>Doenca_Hepatica</th>\n",
       "      <td>0.073393</td>\n",
       "    </tr>\n",
       "    <tr>\n",
       "      <th>Doenca_Hematologica</th>\n",
       "      <td>0.070204</td>\n",
       "    </tr>\n",
       "    <tr>\n",
       "      <th>Puérpera</th>\n",
       "      <td>0.026305</td>\n",
       "    </tr>\n",
       "    <tr>\n",
       "      <th>Síndrome_De_Down</th>\n",
       "      <td>0.022656</td>\n",
       "    </tr>\n",
       "  </tbody>\n",
       "</table>\n",
       "</div>"
      ],
      "text/plain": [
       "                                %\n",
       "Cardiopatia              7.269418\n",
       "Diabetes                 4.827690\n",
       "Outros_Fatores_De_Risco  2.391721\n",
       "Obesidade                0.767308\n",
       "Imunodepressao           0.593964\n",
       "Doenca Renal             0.495932\n",
       "Doenca_Neurologica       0.370486\n",
       "Pneumopatia              0.312324\n",
       "Asma                     0.252194\n",
       "Doenca_Hepatica          0.073393\n",
       "Doenca_Hematologica      0.070204\n",
       "Puérpera                 0.026305\n",
       "Síndrome_De_Down         0.022656"
      ]
     },
     "execution_count": 133,
     "metadata": {},
     "output_type": "execute_result"
    },
    {
     "data": {
      "image/png": "[encoded data removed]",
      "text/plain": [
       "<Figure size 432x288 with 1 Axes>"
      ]
     },
     "metadata": {
      "needs_background": "light"
     },
     "output_type": "display_data"
    }
   ],
   "source": [
    "df_plot = pd.DataFrame(((df[COL_DOENCAS_PRE]==1).mean()*100) ).sort_values(by=[0], ascending=False)\n",
    "df_plot.columns=['%']\n",
    "sns.barplot(x='%', y=df_plot.index, data=df_plot)\n",
    "df_plot"
   ]
  },
  {
   "cell_type": "code",
   "execution_count": 118,
   "metadata": {},
   "outputs": [
    {
     "data": {
      "text/plain": [
       "[7.269417778015404,\n",
       " 4.8276897140872626,\n",
       " 2.3917207421073865,\n",
       " 0.7673077768207496,\n",
       " 0.5939638687580685,\n",
       " 0.4959323835009472,\n",
       " 0.37048571673803127,\n",
       " 0.3123236476406682,\n",
       " 0.25219428542599115,\n",
       " 0.07339272548947125,\n",
       " 0.0702038068073736,\n",
       " 0.026304612810536823,\n",
       " 0.022655601383260907]"
      ]
     },
     "execution_count": 118,
     "metadata": {},
     "output_type": "execute_result"
    }
   ],
   "source": [
    "sorted((df[COL_DOENCAS_PRE]==1).mean()*100,  reverse=True)"
   ]
  },
  {
   "cell_type": "code",
   "execution_count": 116,
   "metadata": {},
   "outputs": [
    {
     "data": {
      "text/plain": [
       "Asma                       0.252194\n",
       "Cardiopatia                7.269418\n",
       "Diabetes                   4.827690\n",
       "Doenca_Hematologica        0.070204\n",
       "Doenca_Hepatica            0.073393\n",
       "Doenca_Neurologica         0.370486\n",
       "Doenca Renal               0.495932\n",
       "Imunodepressao             0.593964\n",
       "Obesidade                  0.767308\n",
       "Outros_Fatores_De_Risco    2.391721\n",
       "Pneumopatia                0.312324\n",
       "Puérpera                   0.026305\n",
       "Síndrome_De_Down           0.022656\n",
       "dtype: float64"
      ]
     },
     "execution_count": 116,
     "metadata": {},
     "output_type": "execute_result"
    }
   ],
   "source": [
    "((df[COL_DOENCAS_PRE]==1).mean()*100)"
   ]
  },
  {
   "cell_type": "markdown",
   "metadata": {},
   "source": [
    "### 4. Baseado nesses dados, faça um modelo que estime a probabilidade da pessoa morrer, uma vez que está contaminada com covid, e considerando os inputs de idade, gênero e doenças pré-existentes"
   ]
  },
  {
   "cell_type": "code",
   "execution_count": 205,
   "metadata": {},
   "outputs": [
    {
     "data": {
      "image/png": "[encoded data removed]",
      "text/plain": [
       "<Figure size 720x288 with 1 Axes>"
      ]
     },
     "metadata": {},
     "output_type": "display_data"
    }
   ],
   "source": [
    "\n",
    "\n",
    "# Violinplot Displays distribution of data\n",
    "# across all levels of a category.\n",
    "ax = sns.violinplot(x=\"Genero\", y=\"Idade\", hue=\"Obito\", data=df, split=True, height=5, inner=\"quart\", linewidth=1)\n",
    "\n",
    "ax.grid()\n",
    "ax.figure.set_size_inches(10,4)\n",
    "\n"
   ]
  },
  {
   "cell_type": "code",
   "execution_count": 206,
   "metadata": {},
   "outputs": [
    {
     "ename": "AttributeError",
     "evalue": "'AxesSubplot' object has no attribute 'palette'",
     "output_type": "error",
     "traceback": [
      "\u001b[1;31m---------------------------------------------------------------------------\u001b[0m",
      "\u001b[1;31mAttributeError\u001b[0m                            Traceback (most recent call last)",
      "\u001b[1;32m~\\AppData\\Local\\Temp/ipykernel_6940/2351957131.py\u001b[0m in \u001b[0;36m<module>\u001b[1;34m\u001b[0m\n\u001b[1;32m----> 1\u001b[1;33m \u001b[0mprint\u001b[0m\u001b[1;33m(\u001b[0m\u001b[0max\u001b[0m\u001b[1;33m.\u001b[0m\u001b[0mpalette\u001b[0m\u001b[1;33m)\u001b[0m\u001b[1;33m\u001b[0m\u001b[1;33m\u001b[0m\u001b[0m\n\u001b[0m",
      "\u001b[1;31mAttributeError\u001b[0m: 'AxesSubplot' object has no attribute 'palette'"
     ]
    }
   ],
   "source": []
  },
  {
   "cell_type": "code",
   "execution_count": null,
   "metadata": {},
   "outputs": [],
   "source": [
    "df.groupby('Genero')['Idade'].describe()"
   ]
  },
  {
   "cell_type": "code",
   "execution_count": null,
   "metadata": {},
   "outputs": [],
   "source": [
    "df.isnull().sum().sort_values()"
   ]
  },
  {
   "cell_type": "code",
   "execution_count": null,
   "metadata": {},
   "outputs": [],
   "source": [
    "df[df['Puérpera']==1].to_clipboard()"
   ]
  },
  {
   "cell_type": "code",
   "execution_count": null,
   "metadata": {},
   "outputs": [],
   "source": [
    "df['Diagnostico_Covid19'].unique()"
   ]
  },
  {
   "cell_type": "code",
   "execution_count": null,
   "metadata": {},
   "outputs": [],
   "source": [
    "sns.catplot(x=\"Genero\", y=\"Obito\", data=df).set(ylim=(0, 1))"
   ]
  },
  {
   "cell_type": "code",
   "execution_count": 61,
   "metadata": {},
   "outputs": [],
   "source": [
    "import matplotlib.pyplot as plt\n",
    "\n",
    "df_0 = df.query('Obito==0')['Idade']\n",
    "df_1 = df.query('Obito==1')['Idade']"
   ]
  },
  {
   "cell_type": "code",
   "execution_count": 152,
   "metadata": {},
   "outputs": [
    {
     "data": {
      "text/plain": [
       "<AxesSubplot:xlabel='Genero', ylabel='Obito'>"
      ]
     },
     "execution_count": 152,
     "metadata": {},
     "output_type": "execute_result"
    },
    {
     "data": {
      "image/png": "[encoded data removed]",
      "text/plain": [
       "<Figure size 432x288 with 1 Axes>"
      ]
     },
     "metadata": {
      "needs_background": "light"
     },
     "output_type": "display_data"
    }
   ],
   "source": [
    "sns.violinplot(x='Genero', y='Obito', data=df, stat='count')"
   ]
  },
  {
   "cell_type": "code",
   "execution_count": 74,
   "metadata": {},
   "outputs": [
    {
     "data": {
      "text/plain": [
       "(array([[1.47401e+05, 2.03791e+05, 3.77376e+05, 7.78686e+05, 8.92509e+05,\n",
       "         8.32628e+05, 8.45404e+05, 5.94798e+05, 5.72280e+05, 3.88783e+05,\n",
       "         2.10744e+05, 1.40717e+05, 6.47900e+04, 3.23450e+04, 6.25400e+03,\n",
       "         4.99000e+02, 1.22000e+02, 2.30000e+01],\n",
       "        [1.47524e+05, 2.03896e+05, 3.77673e+05, 7.80008e+05, 8.96041e+05,\n",
       "         8.38645e+05, 8.56428e+05, 6.08084e+05, 5.95370e+05, 4.18096e+05,\n",
       "         2.36705e+05, 1.68127e+05, 8.42100e+04, 4.64650e+04, 1.00610e+04,\n",
       "         7.94000e+02, 1.40000e+02, 2.50000e+01]]),\n",
       " array([  1.        ,   7.61111111,  14.22222222,  20.83333333,\n",
       "         27.44444444,  34.05555556,  40.66666667,  47.27777778,\n",
       "         53.88888889,  60.5       ,  67.11111111,  73.72222222,\n",
       "         80.33333333,  86.94444444,  93.55555556, 100.16666667,\n",
       "        106.77777778, 113.38888889, 120.        ]),\n",
       " <a list of 2 BarContainer objects>)"
      ]
     },
     "execution_count": 74,
     "metadata": {},
     "output_type": "execute_result"
    },
    {
     "data": {
      "image/png": "[encoded data removed]",
      "text/plain": [
       "<Figure size 432x288 with 1 Axes>"
      ]
     },
     "metadata": {
      "needs_background": "light"
     },
     "output_type": "display_data"
    }
   ],
   "source": [
    "plt.subplot(111)\n",
    "plt.hist([df_0, df_1], \n",
    "             bins=18, \n",
    "             range=(1, 120), \n",
    "             stacked=True)"
   ]
  },
  {
   "cell_type": "code",
   "execution_count": null,
   "metadata": {},
   "outputs": [],
   "source": [
    "df['Genero'].value_counts()"
   ]
  },
  {
   "cell_type": "code",
   "execution_count": null,
   "metadata": {},
   "outputs": [],
   "source": [
    "df[df['Asma']==1]"
   ]
  },
  {
   "cell_type": "code",
   "execution_count": null,
   "metadata": {},
   "outputs": [],
   "source": [
    "sns.boxplot(df['Idade'])"
   ]
  },
  {
   "cell_type": "code",
   "execution_count": 38,
   "metadata": {},
   "outputs": [
    {
     "name": "stderr",
     "output_type": "stream",
     "text": [
      "c:\\Users\\U009262\\Anaconda3\\lib\\site-packages\\seaborn\\_decorators.py:36: FutureWarning: Pass the following variable as a keyword arg: x. From version 0.12, the only valid positional argument will be `data`, and passing other arguments without an explicit keyword will result in an error or misinterpretation.\n",
      "  warnings.warn(\n"
     ]
    },
    {
     "data": {
      "text/plain": [
       "<AxesSubplot:xlabel='Idade'>"
      ]
     },
     "execution_count": 38,
     "metadata": {},
     "output_type": "execute_result"
    },
    {
     "data": {
      "image/png": "[encoded data removed]",
      "text/plain": [
       "<Figure size 432x288 with 1 Axes>"
      ]
     },
     "metadata": {
      "needs_background": "light"
     },
     "output_type": "display_data"
    }
   ],
   "source": [
    "# Pessoa mais velha reconhecida segundo o Guinnes = 122 anos\n",
    "df = df[df['Idade']<=120]\n",
    "sns.boxplot(df['Idade'])"
   ]
  },
  {
   "cell_type": "code",
   "execution_count": null,
   "metadata": {},
   "outputs": [],
   "source": [
    "sns.histplot(df['Idade'], bins=15)"
   ]
  },
  {
   "cell_type": "code",
   "execution_count": null,
   "metadata": {},
   "outputs": [],
   "source": [
    "df['Genero'].value_counts()"
   ]
  },
  {
   "cell_type": "code",
   "execution_count": null,
   "metadata": {},
   "outputs": [],
   "source": [
    "df.corr()"
   ]
  },
  {
   "cell_type": "code",
   "execution_count": null,
   "metadata": {},
   "outputs": [],
   "source": [
    "df_tmp = pd.DataFrame()\n",
    "df_tmp['Coluna'] = df.columns"
   ]
  },
  {
   "cell_type": "code",
   "execution_count": null,
   "metadata": {},
   "outputs": [],
   "source": [
    "df_tmp['IsNull'] = df.isnull().sum()\n",
    "df_tmp"
   ]
  },
  {
   "cell_type": "code",
   "execution_count": null,
   "metadata": {},
   "outputs": [],
   "source": [
    "sns.heatmap(data=df.corr(),annot=True,linewidths=0.2,cmap='coolwarm', square=True);"
   ]
  },
  {
   "cell_type": "code",
   "execution_count": 196,
   "metadata": {},
   "outputs": [
    {
     "name": "stdout",
     "output_type": "stream",
     "text": [
      "{'A': '#FF0000', 'B': '#0000ff', 'Total': '#999999', 'C': '#00ff00'}\n"
     ]
    },
    {
     "name": "stderr",
     "output_type": "stream",
     "text": [
      "C:\\Users\\U009262\\AppData\\Local\\Temp/ipykernel_6940/1378377306.py:11: FutureWarning: The series.append method is deprecated and will be removed from pandas in a future version. Use pandas.concat instead.\n",
      "  unique = a[\"Program\"].append(b[\"Program\"]).unique()\n"
     ]
    },
    {
     "data": {
      "text/plain": [
       "<Figure size 432x288 with 0 Axes>"
      ]
     },
     "execution_count": 196,
     "metadata": {},
     "output_type": "execute_result"
    },
    {
     "data": {
      "image/png": "[encoded data removed]",
      "text/plain": [
       "<Figure size 432x288 with 1 Axes>"
      ]
     },
     "metadata": {},
     "output_type": "display_data"
    },
    {
     "data": {
      "text/plain": [
       "<Figure size 432x288 with 0 Axes>"
      ]
     },
     "metadata": {},
     "output_type": "display_data"
    }
   ],
   "source": [
    "import seaborn as sns\n",
    "import pandas as pd\n",
    "import matplotlib.pyplot as plt\n",
    "sns.set_style('darkgrid')\n",
    "fig, ax = plt.subplots()\n",
    "\n",
    "a = pd.DataFrame({'Program': ['A', 'A', 'B', 'B', 'Total', 'Total'],\n",
    "                  'Scenario': ['X', 'Y', 'X', 'Y', 'X', 'Y'],\n",
    "                  'Duration': [4, 3, 5, 4, 9, 7]})\n",
    "\n",
    "unique = a[\"Program\"].append(b[\"Program\"]).unique()\n",
    "\n",
    "\n",
    "palette = {'A': '#FF0000', 'B': '#0000ff', 'Total': 'k', 'C': '#00ff00', \"Total\":\"#999999\"}\n",
    "\n",
    "ax = sns.barplot(data=a, x='Scenario', y='Duration', hue='Program', palette=palette)\n",
    "\n",
    "\n"
   ]
  }
 ],
 "metadata": {
  "kernelspec": {
   "display_name": "Python 3.8.12 ('base')",
   "language": "python",
   "name": "python3"
  },
  "language_info": {
   "codemirror_mode": {
    "name": "ipython",
    "version": 3
   },
   "file_extension": ".py",
   "mimetype": "text/x-python",
   "name": "python",
   "nbconvert_exporter": "python",
   "pygments_lexer": "ipython3",
   "version": "3.10.4"
  },
  "orig_nbformat": 4,
  "vscode": {
   "interpreter": {
    "hash": "b2d2b69c77d39fe694b7ff6833458efb43ff73bac4f038c8c09fa19256fa4f33"
   }
  }
 },
 "nbformat": 4,
 "nbformat_minor": 2
}
